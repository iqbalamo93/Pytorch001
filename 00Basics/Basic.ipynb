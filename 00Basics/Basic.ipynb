{
 "cells": [
  {
   "cell_type": "code",
   "execution_count": 3,
   "id": "89571cc9",
   "metadata": {},
   "outputs": [],
   "source": [
    "import numpy as np\n",
    "import torch "
   ]
  },
  {
   "cell_type": "code",
   "execution_count": 26,
   "id": "97216015",
   "metadata": {},
   "outputs": [
    {
     "name": "stdout",
     "output_type": "stream",
     "text": [
      "[ 1  2  3  4  5  6  7  8  9 10 11]\n",
      "int32 data type\n"
     ]
    }
   ],
   "source": [
    "arr = np.arange(1,12)\n",
    "print(arr)\n",
    "print(f'{arr.dtype} data type')"
   ]
  },
  {
   "cell_type": "markdown",
   "id": "a8b15b64",
   "metadata": {},
   "source": [
    "### torch.from_numpy()"
   ]
  },
  {
   "cell_type": "code",
   "execution_count": 27,
   "id": "cd017a70",
   "metadata": {},
   "outputs": [],
   "source": [
    "arr_torch = torch.from_numpy(arr)"
   ]
  },
  {
   "cell_type": "code",
   "execution_count": 28,
   "id": "cc4d7f0e",
   "metadata": {},
   "outputs": [
    {
     "data": {
      "text/plain": [
       "tensor([ 1,  2,  3,  4,  5,  6,  7,  8,  9, 10, 11], dtype=torch.int32)"
      ]
     },
     "execution_count": 28,
     "metadata": {},
     "output_type": "execute_result"
    }
   ],
   "source": [
    "arr_torch"
   ]
  },
  {
   "cell_type": "code",
   "execution_count": 29,
   "id": "40dda777",
   "metadata": {},
   "outputs": [
    {
     "data": {
      "text/plain": [
       "tensor([99,  2,  3,  4,  5,  6,  7,  8,  9, 10, 11], dtype=torch.int32)"
      ]
     },
     "execution_count": 29,
     "metadata": {},
     "output_type": "execute_result"
    }
   ],
   "source": [
    "arr[0]=99\n",
    "arr_torch"
   ]
  },
  {
   "cell_type": "code",
   "execution_count": 30,
   "id": "7162bd39",
   "metadata": {},
   "outputs": [
    {
     "data": {
      "text/plain": [
       "torch.int32"
      ]
     },
     "execution_count": 30,
     "metadata": {},
     "output_type": "execute_result"
    }
   ],
   "source": [
    "arr_torch.dtype"
   ]
  },
  {
   "cell_type": "markdown",
   "id": "9aa30ad2",
   "metadata": {},
   "source": [
    "### torch.tensor()"
   ]
  },
  {
   "cell_type": "code",
   "execution_count": 31,
   "id": "14a51af3",
   "metadata": {},
   "outputs": [
    {
     "data": {
      "text/plain": [
       "array([99,  2,  3,  4,  5,  6,  7,  8,  9, 10, 11])"
      ]
     },
     "execution_count": 31,
     "metadata": {},
     "output_type": "execute_result"
    }
   ],
   "source": [
    "arr"
   ]
  },
  {
   "cell_type": "code",
   "execution_count": 32,
   "id": "95505e7f",
   "metadata": {},
   "outputs": [
    {
     "name": "stdout",
     "output_type": "stream",
     "text": [
      "tensor([99,  2,  3,  4,  5,  6,  7,  8,  9, 10, 11], dtype=torch.int32)\n"
     ]
    }
   ],
   "source": [
    "arr_torch = torch.tensor(arr)\n",
    "print(arr_torch)"
   ]
  },
  {
   "cell_type": "code",
   "execution_count": 33,
   "id": "ee5b6ca1",
   "metadata": {},
   "outputs": [],
   "source": [
    "arr[0] =978"
   ]
  },
  {
   "cell_type": "code",
   "execution_count": 34,
   "id": "469a426b",
   "metadata": {},
   "outputs": [
    {
     "data": {
      "text/plain": [
       "tensor([99,  2,  3,  4,  5,  6,  7,  8,  9, 10, 11], dtype=torch.int32)"
      ]
     },
     "execution_count": 34,
     "metadata": {},
     "output_type": "execute_result"
    }
   ],
   "source": [
    "arr_torch"
   ]
  },
  {
   "cell_type": "markdown",
   "id": "56bf1d54",
   "metadata": {},
   "source": [
    "### torch.Tensor() \n",
    "\n",
    "T-  returns floats <br>\n",
    "t-  retains data type <br>\n",
    "\n",
    "same as torch.FloatTensor()"
   ]
  },
  {
   "cell_type": "code",
   "execution_count": 41,
   "id": "445d7432",
   "metadata": {},
   "outputs": [
    {
     "data": {
      "text/plain": [
       "array([978,   2,   3,   4,   5,   6,   7,   8,   9,  10,  11])"
      ]
     },
     "execution_count": 41,
     "metadata": {},
     "output_type": "execute_result"
    }
   ],
   "source": [
    "arr"
   ]
  },
  {
   "cell_type": "code",
   "execution_count": 38,
   "id": "fc623d49",
   "metadata": {},
   "outputs": [],
   "source": [
    "arr_tor = torch.Tensor(arr)"
   ]
  },
  {
   "cell_type": "code",
   "execution_count": 39,
   "id": "88961ef4",
   "metadata": {},
   "outputs": [
    {
     "data": {
      "text/plain": [
       "torch.float32"
      ]
     },
     "execution_count": 39,
     "metadata": {},
     "output_type": "execute_result"
    }
   ],
   "source": [
    "arr_tor.dtype"
   ]
  },
  {
   "cell_type": "code",
   "execution_count": 40,
   "id": "7fa6b233",
   "metadata": {},
   "outputs": [
    {
     "data": {
      "text/plain": [
       "torch.int32"
      ]
     },
     "execution_count": 40,
     "metadata": {},
     "output_type": "execute_result"
    }
   ],
   "source": [
    "arr_torch.dtype"
   ]
  },
  {
   "cell_type": "code",
   "execution_count": 42,
   "id": "4123908c",
   "metadata": {},
   "outputs": [],
   "source": [
    "arr_tor_float = torch.FloatTensor(arr)"
   ]
  },
  {
   "cell_type": "code",
   "execution_count": 43,
   "id": "d2d683b4",
   "metadata": {},
   "outputs": [],
   "source": [
    "arr_tor_float = arr_tor"
   ]
  },
  {
   "cell_type": "markdown",
   "id": "35dcd844",
   "metadata": {},
   "source": [
    "## torch.empty()"
   ]
  },
  {
   "cell_type": "code",
   "execution_count": 44,
   "id": "9e0f53a6",
   "metadata": {},
   "outputs": [
    {
     "data": {
      "text/plain": [
       "tensor([[0.0000e+00, 6.6141e-43, 1.8754e+28, 4.1586e-05],\n",
       "        [4.1766e-08, 1.2802e-11, 1.3002e+22, 2.6703e-06]])"
      ]
     },
     "execution_count": 44,
     "metadata": {},
     "output_type": "execute_result"
    }
   ],
   "source": [
    "torch.empty(2,4)"
   ]
  },
  {
   "cell_type": "markdown",
   "id": "bbd15954",
   "metadata": {},
   "source": [
    "## torch.zeros"
   ]
  },
  {
   "cell_type": "code",
   "execution_count": 107,
   "id": "08201f84",
   "metadata": {},
   "outputs": [
    {
     "name": "stdout",
     "output_type": "stream",
     "text": [
      "tensor([[0, 0, 0],\n",
      "        [0, 0, 0],\n",
      "        [0, 0, 0],\n",
      "        [0, 0, 0]])\n"
     ]
    }
   ],
   "source": [
    "zeros = torch.zeros(4,3,dtype=torch.int64)\n",
    "print(zeros)"
   ]
  },
  {
   "cell_type": "markdown",
   "id": "4fcd0a81",
   "metadata": {},
   "source": [
    "## torch.ones"
   ]
  },
  {
   "cell_type": "code",
   "execution_count": 100,
   "id": "30ab648d",
   "metadata": {},
   "outputs": [
    {
     "name": "stdout",
     "output_type": "stream",
     "text": [
      "tensor([[1., 1., 1.],\n",
      "        [1., 1., 1.]])\n"
     ]
    }
   ],
   "source": [
    "ones = torch.ones(2,3)\n",
    "print(ones)"
   ]
  },
  {
   "cell_type": "markdown",
   "id": "de38c682",
   "metadata": {},
   "source": [
    "## torch.arange"
   ]
  },
  {
   "cell_type": "code",
   "execution_count": 105,
   "id": "c85b8494",
   "metadata": {},
   "outputs": [
    {
     "name": "stdout",
     "output_type": "stream",
     "text": [
      "tensor([[ 0,  1,  2,  3,  4],\n",
      "        [ 5,  6,  7,  8,  9],\n",
      "        [10, 11, 12, 13, 14],\n",
      "        [15, 16, 17, 18, 19]])\n"
     ]
    }
   ],
   "source": [
    "arange = torch.arange(0,20,1).reshape(4,-1)\n",
    "print(arange)"
   ]
  },
  {
   "cell_type": "markdown",
   "id": "435b7fde",
   "metadata": {},
   "source": [
    "## torch.linspace"
   ]
  },
  {
   "cell_type": "code",
   "execution_count": 65,
   "id": "940aa7ec",
   "metadata": {},
   "outputs": [
    {
     "data": {
      "text/plain": [
       "tensor([[ 0.0000,  1.8182,  3.6364,  5.4545],\n",
       "        [ 7.2727,  9.0909, 10.9091, 12.7273],\n",
       "        [14.5455, 16.3636, 18.1818, 20.0000]])"
      ]
     },
     "execution_count": 65,
     "metadata": {},
     "output_type": "execute_result"
    }
   ],
   "source": [
    "torch.linspace(0,20,12).reshape(3,4)"
   ]
  },
  {
   "cell_type": "markdown",
   "id": "5c04b9bc",
   "metadata": {},
   "source": [
    "# changing dtype"
   ]
  },
  {
   "cell_type": "code",
   "execution_count": 66,
   "id": "c337e65d",
   "metadata": {},
   "outputs": [
    {
     "data": {
      "text/plain": [
       "tensor([978.,   2.,   3.,   4.,   5.,   6.,   7.,   8.,   9.,  10.,  11.])"
      ]
     },
     "execution_count": 66,
     "metadata": {},
     "output_type": "execute_result"
    }
   ],
   "source": [
    "arr_tor"
   ]
  },
  {
   "cell_type": "code",
   "execution_count": 67,
   "id": "d38b20c3",
   "metadata": {},
   "outputs": [
    {
     "data": {
      "text/plain": [
       "torch.float32"
      ]
     },
     "execution_count": 67,
     "metadata": {},
     "output_type": "execute_result"
    }
   ],
   "source": [
    "arr_tor.dtype"
   ]
  },
  {
   "cell_type": "code",
   "execution_count": 69,
   "id": "618cb937",
   "metadata": {},
   "outputs": [
    {
     "data": {
      "text/plain": [
       "tensor([978,   2,   3,   4,   5,   6,   7,   8,   9,  10,  11],\n",
       "       dtype=torch.int32)"
      ]
     },
     "execution_count": 69,
     "metadata": {},
     "output_type": "execute_result"
    }
   ],
   "source": [
    "arr_tor.type(torch.int32)"
   ]
  },
  {
   "cell_type": "markdown",
   "id": "2c0d9218",
   "metadata": {},
   "source": [
    "## torch.rand"
   ]
  },
  {
   "cell_type": "code",
   "execution_count": 70,
   "id": "16420d87",
   "metadata": {},
   "outputs": [
    {
     "data": {
      "text/plain": [
       "tensor([[0.0336, 0.4166, 0.7169],\n",
       "        [0.4240, 0.3917, 0.2753],\n",
       "        [0.5309, 0.9136, 0.1907],\n",
       "        [0.3885, 0.3272, 0.3036]])"
      ]
     },
     "execution_count": 70,
     "metadata": {},
     "output_type": "execute_result"
    }
   ],
   "source": [
    "torch.rand(4,3)"
   ]
  },
  {
   "cell_type": "markdown",
   "id": "e094266f",
   "metadata": {},
   "source": [
    "## torch.randn"
   ]
  },
  {
   "cell_type": "code",
   "execution_count": 89,
   "id": "8cf54a62",
   "metadata": {},
   "outputs": [
    {
     "name": "stdout",
     "output_type": "stream",
     "text": [
      "tensor([[ 1.1321,  0.0461,  1.7751],\n",
      "        [ 0.7689, -0.5659, -0.2497],\n",
      "        [-0.0225,  2.5757,  0.3928],\n",
      "        [ 0.5975,  0.6806, -1.0219]])\n"
     ]
    }
   ],
   "source": [
    "randn = torch.randn(4,3)\n",
    "print(randn)"
   ]
  },
  {
   "cell_type": "markdown",
   "id": "237fcdd0",
   "metadata": {},
   "source": [
    "## torch.randint"
   ]
  },
  {
   "cell_type": "code",
   "execution_count": 83,
   "id": "2e285dfc",
   "metadata": {},
   "outputs": [
    {
     "name": "stdout",
     "output_type": "stream",
     "text": [
      "tensor([[8, 5, 1, 7, 8],\n",
      "        [4, 3, 4, 4, 5],\n",
      "        [7, 1, 3, 1, 1],\n",
      "        [8, 7, 2, 8, 6],\n",
      "        [1, 2, 2, 8, 3]])\n"
     ]
    }
   ],
   "source": [
    "randint = torch.randint(0,10,(5,5))\n",
    "print(randint)"
   ]
  },
  {
   "cell_type": "markdown",
   "id": "39c55b1b",
   "metadata": {},
   "source": [
    "# \\_like modules\n",
    "\n",
    "randn_like(some_data_object)  \n",
    "randint_like(some_data_object)  \n",
    "rand_like(some_data_object)  "
   ]
  },
  {
   "cell_type": "code",
   "execution_count": 96,
   "id": "5c797daa",
   "metadata": {},
   "outputs": [
    {
     "data": {
      "text/plain": [
       "tensor([[0.1299, 0.9693, 0.2214],\n",
       "        [0.5110, 0.9174, 0.9605],\n",
       "        [0.8656, 0.4704, 0.8977],\n",
       "        [0.1647, 0.8156, 0.5999]])"
      ]
     },
     "execution_count": 96,
     "metadata": {},
     "output_type": "execute_result"
    }
   ],
   "source": [
    "torch.rand_like(randn)"
   ]
  },
  {
   "cell_type": "code",
   "execution_count": 101,
   "id": "2725f136",
   "metadata": {},
   "outputs": [
    {
     "data": {
      "text/plain": [
       "tensor([[0.3088, 1.7550, 1.1587],\n",
       "        [1.4731, 0.5654, 1.7880]])"
      ]
     },
     "execution_count": 101,
     "metadata": {},
     "output_type": "execute_result"
    }
   ],
   "source": [
    "torch.randn_like(ones)"
   ]
  },
  {
   "cell_type": "code",
   "execution_count": 120,
   "id": "d817756d",
   "metadata": {},
   "outputs": [
    {
     "data": {
      "text/plain": [
       "tensor([[12, 15, 19],\n",
       "        [11, 12, 17],\n",
       "        [18, 18, 12],\n",
       "        [19, 12, 14]])"
      ]
     },
     "execution_count": 120,
     "metadata": {},
     "output_type": "execute_result"
    }
   ],
   "source": [
    "torch.randint_like(zeros,10,20)\n",
    "#only in this case pass low and high"
   ]
  },
  {
   "cell_type": "markdown",
   "id": "b74309f3",
   "metadata": {},
   "source": [
    "### torch.maual_seed()"
   ]
  },
  {
   "cell_type": "code",
   "execution_count": 121,
   "id": "a7596647",
   "metadata": {},
   "outputs": [
    {
     "data": {
      "text/plain": [
       "tensor([[13, 13, 12],\n",
       "        [17, 13, 16],\n",
       "        [19, 13, 18],\n",
       "        [10, 14, 13]])"
      ]
     },
     "execution_count": 121,
     "metadata": {},
     "output_type": "execute_result"
    }
   ],
   "source": [
    "torch.manual_seed(12)\n",
    "torch.randint_like(zeros,10,20)\n",
    "#only in this case pass low and high"
   ]
  },
  {
   "cell_type": "code",
   "execution_count": 122,
   "id": "e79ba23f",
   "metadata": {},
   "outputs": [
    {
     "data": {
      "text/plain": [
       "tensor([[0.8823, 0.9150, 0.3829],\n",
       "        [0.9593, 0.3904, 0.6009]])"
      ]
     },
     "execution_count": 122,
     "metadata": {},
     "output_type": "execute_result"
    }
   ],
   "source": [
    "torch.manual_seed(42)\n",
    "torch.rand(2,3)"
   ]
  },
  {
   "cell_type": "code",
   "execution_count": null,
   "id": "ebc467e3",
   "metadata": {},
   "outputs": [],
   "source": []
  }
 ],
 "metadata": {
  "kernelspec": {
   "display_name": "Python 3 (ipykernel)",
   "language": "python",
   "name": "python3"
  },
  "language_info": {
   "codemirror_mode": {
    "name": "ipython",
    "version": 3
   },
   "file_extension": ".py",
   "mimetype": "text/x-python",
   "name": "python",
   "nbconvert_exporter": "python",
   "pygments_lexer": "ipython3",
   "version": "3.10.4"
  }
 },
 "nbformat": 4,
 "nbformat_minor": 5
}
