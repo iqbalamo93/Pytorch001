{
 "cells": [
  {
   "cell_type": "code",
   "execution_count": 1,
   "id": "65d4b4c7",
   "metadata": {},
   "outputs": [],
   "source": [
    "import torch"
   ]
  },
  {
   "cell_type": "code",
   "execution_count": 2,
   "id": "aedc0a0f",
   "metadata": {},
   "outputs": [],
   "source": [
    "x = torch.tensor(2.,requires_grad =True)"
   ]
  },
  {
   "cell_type": "code",
   "execution_count": 3,
   "id": "6a9bab4c",
   "metadata": {},
   "outputs": [
    {
     "data": {
      "text/plain": [
       "63"
      ]
     },
     "execution_count": 3,
     "metadata": {},
     "output_type": "execute_result"
    }
   ],
   "source": [
    "f_x = 2*x**4 + x**3 + 3*x**2 +5*x + 1\n",
    "\n",
    "2*2**4 + 2**3 + 3*2**2 +5*2 + 1"
   ]
  },
  {
   "cell_type": "code",
   "execution_count": 4,
   "id": "207672ea",
   "metadata": {},
   "outputs": [
    {
     "data": {
      "text/plain": [
       "tensor(63., grad_fn=<AddBackward0>)"
      ]
     },
     "execution_count": 4,
     "metadata": {},
     "output_type": "execute_result"
    }
   ],
   "source": [
    "f_x"
   ]
  },
  {
   "cell_type": "code",
   "execution_count": 5,
   "id": "42ea432a",
   "metadata": {},
   "outputs": [
    {
     "data": {
      "text/plain": [
       "torch.Tensor"
      ]
     },
     "execution_count": 5,
     "metadata": {},
     "output_type": "execute_result"
    }
   ],
   "source": [
    "type(f_x)"
   ]
  },
  {
   "cell_type": "code",
   "execution_count": 6,
   "id": "2d0298be",
   "metadata": {},
   "outputs": [],
   "source": [
    "f_x.backward()"
   ]
  },
  {
   "cell_type": "code",
   "execution_count": 7,
   "id": "b55289f8",
   "metadata": {},
   "outputs": [
    {
     "data": {
      "text/plain": [
       "tensor(63., grad_fn=<AddBackward0>)"
      ]
     },
     "execution_count": 7,
     "metadata": {},
     "output_type": "execute_result"
    }
   ],
   "source": [
    "f_x"
   ]
  },
  {
   "cell_type": "code",
   "execution_count": 8,
   "id": "05490326",
   "metadata": {},
   "outputs": [
    {
     "data": {
      "text/plain": [
       "tensor(93.)"
      ]
     },
     "execution_count": 8,
     "metadata": {},
     "output_type": "execute_result"
    }
   ],
   "source": [
    "x.grad"
   ]
  },
  {
   "cell_type": "code",
   "execution_count": 9,
   "id": "8195e27b",
   "metadata": {},
   "outputs": [],
   "source": [
    "f_dervi = 8*2**3 + 3*2**2 +6*2+5"
   ]
  },
  {
   "cell_type": "code",
   "execution_count": 10,
   "id": "b2955766",
   "metadata": {},
   "outputs": [
    {
     "data": {
      "text/plain": [
       "93"
      ]
     },
     "execution_count": 10,
     "metadata": {},
     "output_type": "execute_result"
    }
   ],
   "source": [
    "f_dervi"
   ]
  },
  {
   "cell_type": "markdown",
   "id": "43729ada",
   "metadata": {},
   "source": [
    "## Multi"
   ]
  },
  {
   "cell_type": "code",
   "execution_count": 30,
   "id": "95cf1dcb",
   "metadata": {},
   "outputs": [],
   "source": [
    "x = torch.tensor([[1.,2.,3.], [3.,2.,1.]], requires_grad = True)"
   ]
  },
  {
   "cell_type": "code",
   "execution_count": 31,
   "id": "c3f26e92",
   "metadata": {},
   "outputs": [
    {
     "name": "stdout",
     "output_type": "stream",
     "text": [
      "tensor([[1., 2., 3.],\n",
      "        [3., 2., 1.]], requires_grad=True)\n"
     ]
    }
   ],
   "source": [
    "print(x)"
   ]
  },
  {
   "cell_type": "code",
   "execution_count": 32,
   "id": "1fb39bb9",
   "metadata": {},
   "outputs": [],
   "source": [
    "y = 3*x +2 #x is derivative"
   ]
  },
  {
   "cell_type": "code",
   "execution_count": 33,
   "id": "d95d01e9",
   "metadata": {},
   "outputs": [
    {
     "name": "stdout",
     "output_type": "stream",
     "text": [
      "tensor([[ 5.,  8., 11.],\n",
      "        [11.,  8.,  5.]], grad_fn=<AddBackward0>)\n"
     ]
    }
   ],
   "source": [
    "print(y)"
   ]
  },
  {
   "cell_type": "code",
   "execution_count": 34,
   "id": "ab69405d",
   "metadata": {},
   "outputs": [],
   "source": [
    "z = 2*y**2 "
   ]
  },
  {
   "cell_type": "code",
   "execution_count": 35,
   "id": "35410afb",
   "metadata": {},
   "outputs": [
    {
     "name": "stdout",
     "output_type": "stream",
     "text": [
      "tensor([[ 50., 128., 242.],\n",
      "        [242., 128.,  50.]], grad_fn=<MulBackward0>)\n"
     ]
    }
   ],
   "source": [
    "print(z)"
   ]
  },
  {
   "cell_type": "code",
   "execution_count": 36,
   "id": "df242909",
   "metadata": {},
   "outputs": [],
   "source": [
    "out = z.mean()"
   ]
  },
  {
   "cell_type": "code",
   "execution_count": 37,
   "id": "24f82f5f",
   "metadata": {},
   "outputs": [
    {
     "name": "stdout",
     "output_type": "stream",
     "text": [
      "tensor(140., grad_fn=<MeanBackward0>)\n"
     ]
    }
   ],
   "source": [
    "print(out)"
   ]
  },
  {
   "cell_type": "markdown",
   "id": "2a97f1ab",
   "metadata": {},
   "source": [
    "### find the gradient of x wrt to out"
   ]
  },
  {
   "cell_type": "code",
   "execution_count": 38,
   "id": "87a5bb80",
   "metadata": {},
   "outputs": [],
   "source": [
    "out.backward()"
   ]
  },
  {
   "cell_type": "code",
   "execution_count": 39,
   "id": "e2748e02",
   "metadata": {},
   "outputs": [
    {
     "data": {
      "text/plain": [
       "tensor([[10., 16., 22.],\n",
       "        [22., 16., 10.]])"
      ]
     },
     "execution_count": 39,
     "metadata": {},
     "output_type": "execute_result"
    }
   ],
   "source": [
    "x.grad"
   ]
  },
  {
   "cell_type": "code",
   "execution_count": null,
   "id": "2a8624b6",
   "metadata": {},
   "outputs": [],
   "source": []
  }
 ],
 "metadata": {
  "kernelspec": {
   "display_name": "Python 3 (ipykernel)",
   "language": "python",
   "name": "python3"
  },
  "language_info": {
   "codemirror_mode": {
    "name": "ipython",
    "version": 3
   },
   "file_extension": ".py",
   "mimetype": "text/x-python",
   "name": "python",
   "nbconvert_exporter": "python",
   "pygments_lexer": "ipython3",
   "version": "3.10.4"
  }
 },
 "nbformat": 4,
 "nbformat_minor": 5
}
