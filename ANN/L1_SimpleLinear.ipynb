{
 "cells": [
  {
   "cell_type": "code",
   "execution_count": 1,
   "id": "3ca43ded",
   "metadata": {},
   "outputs": [],
   "source": [
    "import torch\n",
    "import torch.nn as nn\n",
    "import numpy as np\n",
    "import matplotlib.pyplot as plt\n",
    "%matplotlib inline"
   ]
  },
  {
   "cell_type": "markdown",
   "id": "80ded670",
   "metadata": {},
   "source": [
    "Pln:"
   ]
  },
  {
   "cell_type": "code",
   "execution_count": 2,
   "id": "55033519",
   "metadata": {},
   "outputs": [
    {
     "name": "stdout",
     "output_type": "stream",
     "text": [
      "Parameter containing:\n",
      "tensor([[0.4861]], requires_grad=True)\n",
      "Parameter containing:\n",
      "tensor([0.4551], requires_grad=True)\n"
     ]
    }
   ],
   "source": [
    "model = nn.Linear(in_features=1, out_features=1)\n",
    "print(model.weight)\n",
    "print(model.bias)"
   ]
  },
  {
   "cell_type": "code",
   "execution_count": 3,
   "id": "4cda2b9f",
   "metadata": {},
   "outputs": [
    {
     "data": {
      "text/plain": [
       "tensor([1.4273], grad_fn=<AddBackward0>)"
      ]
     },
     "execution_count": 3,
     "metadata": {},
     "output_type": "execute_result"
    }
   ],
   "source": [
    "model(torch.Tensor([2]))"
   ]
  },
  {
   "cell_type": "code",
   "execution_count": 4,
   "id": "487f3bb3",
   "metadata": {},
   "outputs": [
    {
     "data": {
      "text/plain": [
       "1.1183"
      ]
     },
     "execution_count": 4,
     "metadata": {},
     "output_type": "execute_result"
    }
   ],
   "source": [
    "2*0.5088+0.1007"
   ]
  },
  {
   "cell_type": "code",
   "execution_count": 5,
   "id": "fe300795",
   "metadata": {},
   "outputs": [],
   "source": [
    "torch.manual_seed(50)\n",
    "class Model(nn.Module):\n",
    "    \n",
    "    def __init__(self,in_features, out_features):\n",
    "        super().__init__()\n",
    "        self.linear = nn.Linear(in_features, out_features)\n",
    "        \n",
    "    def forward(self, x):\n",
    "        y_pred = self.linear(x)\n",
    "        return y_pred\n",
    "        "
   ]
  },
  {
   "cell_type": "code",
   "execution_count": 6,
   "id": "90e4d836",
   "metadata": {},
   "outputs": [
    {
     "name": "stdout",
     "output_type": "stream",
     "text": [
      "Model(\n",
      "  (linear): Linear(in_features=1, out_features=1, bias=True)\n",
      ")\n"
     ]
    }
   ],
   "source": [
    "my_first_pytorch_model = Model(1,1)\n",
    "print(my_first_pytorch_model)"
   ]
  },
  {
   "cell_type": "code",
   "execution_count": 7,
   "id": "8b684f48",
   "metadata": {},
   "outputs": [
    {
     "data": {
      "text/plain": [
       "Model(\n",
       "  (linear): Linear(in_features=1, out_features=1, bias=True)\n",
       ")"
      ]
     },
     "execution_count": 7,
     "metadata": {},
     "output_type": "execute_result"
    }
   ],
   "source": [
    "my_first_pytorch_model"
   ]
  },
  {
   "cell_type": "code",
   "execution_count": 8,
   "id": "5f256f08",
   "metadata": {},
   "outputs": [
    {
     "name": "stdout",
     "output_type": "stream",
     "text": [
      "linear.weight \t 0.23604393005371094\n",
      "linear.bias \t -0.8626136779785156\n"
     ]
    }
   ],
   "source": [
    "for name,parameters  in my_first_pytorch_model.named_parameters():\n",
    "    print(name, '\\t',parameters.item())"
   ]
  },
  {
   "cell_type": "markdown",
   "id": "f0483a5d",
   "metadata": {},
   "source": [
    "## Action1: Y = mx+c series\n",
    "* we plan to create a X,y dataset and test out Neural net from pytorch"
   ]
  },
  {
   "cell_type": "code",
   "execution_count": 9,
   "id": "7830d516",
   "metadata": {},
   "outputs": [],
   "source": [
    "X = torch.linspace(1,50,50).reshape(-1,1)"
   ]
  },
  {
   "cell_type": "code",
   "execution_count": 10,
   "id": "e59dd7c1",
   "metadata": {},
   "outputs": [
    {
     "data": {
      "text/plain": [
       "tensor([[1.],\n",
       "        [2.],\n",
       "        [3.],\n",
       "        [4.],\n",
       "        [5.]])"
      ]
     },
     "execution_count": 10,
     "metadata": {},
     "output_type": "execute_result"
    }
   ],
   "source": [
    "X[:5]"
   ]
  },
  {
   "cell_type": "code",
   "execution_count": 11,
   "id": "e6e4f4a1",
   "metadata": {},
   "outputs": [
    {
     "name": "stdout",
     "output_type": "stream",
     "text": [
      "torch.Size([50, 1])\n"
     ]
    }
   ],
   "source": [
    "print(X.shape)"
   ]
  },
  {
   "cell_type": "code",
   "execution_count": 12,
   "id": "db3a99b2",
   "metadata": {},
   "outputs": [],
   "source": [
    "#creating some errors to the data\n",
    "e = torch.randint(-8,9,(50,1),dtype= torch.float)\n",
    "y = 2*X + e"
   ]
  },
  {
   "cell_type": "code",
   "execution_count": 13,
   "id": "288e4afe",
   "metadata": {},
   "outputs": [
    {
     "data": {
      "text/plain": [
       "torch.Tensor"
      ]
     },
     "execution_count": 13,
     "metadata": {},
     "output_type": "execute_result"
    }
   ],
   "source": [
    "type(y)"
   ]
  },
  {
   "cell_type": "code",
   "execution_count": 14,
   "id": "9f19689b",
   "metadata": {},
   "outputs": [
    {
     "data": {
      "text/plain": [
       "Text(0.5, 0, 'x')"
      ]
     },
     "execution_count": 14,
     "metadata": {},
     "output_type": "execute_result"
    },
    {
     "data": {
      "image/png": "[encoded data removed]",
      "text/plain": [
       "<Figure size 432x288 with 1 Axes>"
      ]
     },
     "metadata": {
      "needs_background": "light"
     },
     "output_type": "display_data"
    }
   ],
   "source": [
    "plt.scatter(X.numpy(),y.numpy())\n",
    "plt.ylabel('y')\n",
    "plt.xlabel('x')"
   ]
  },
  {
   "cell_type": "markdown",
   "id": "53920f7c",
   "metadata": {},
   "source": [
    "## predictions with forwards pass"
   ]
  },
  {
   "cell_type": "code",
   "execution_count": 15,
   "id": "3b1d0a8e",
   "metadata": {},
   "outputs": [],
   "source": [
    "dummy_model = Model(1,1)\n",
    "w,b = dummy_model.linear.weight.item(), dummy_model.linear.bias.item()"
   ]
  },
  {
   "cell_type": "code",
   "execution_count": 16,
   "id": "a2199be7",
   "metadata": {},
   "outputs": [
    {
     "name": "stdout",
     "output_type": "stream",
     "text": [
      "0.4533398151397705 0.8972148895263672\n"
     ]
    }
   ],
   "source": [
    "print(w,b)"
   ]
  },
  {
   "cell_type": "code",
   "execution_count": 17,
   "id": "2f31e859",
   "metadata": {},
   "outputs": [],
   "source": [
    "x_inputs = np.linspace(0.0,50,50)\n",
    "y_pred = w*x_inputs + b"
   ]
  },
  {
   "cell_type": "code",
   "execution_count": 18,
   "id": "ba5803e3",
   "metadata": {},
   "outputs": [
    {
     "data": {
      "text/plain": [
       "Text(0.5, 0, 'x')"
      ]
     },
     "execution_count": 18,
     "metadata": {},
     "output_type": "execute_result"
    },
    {
     "data": {
      "image/png": "[encoded data removed]",
      "text/plain": [
       "<Figure size 432x288 with 1 Axes>"
      ]
     },
     "metadata": {
      "needs_background": "light"
     },
     "output_type": "display_data"
    }
   ],
   "source": [
    "plt.scatter(X.numpy(),y.numpy())\n",
    "plt.plot(x_inputs,y_pred,color='red')\n",
    "plt.ylabel('y')\n",
    "plt.xlabel('x')"
   ]
  },
  {
   "cell_type": "markdown",
   "id": "d313af6e",
   "metadata": {},
   "source": [
    "## Action 2: Define loss function & Optimizer"
   ]
  },
  {
   "cell_type": "code",
   "execution_count": 25,
   "id": "000d1bb1",
   "metadata": {},
   "outputs": [],
   "source": [
    "criterion = nn.MSELoss() "
   ]
  },
  {
   "cell_type": "code",
   "execution_count": 26,
   "id": "a417ba2e",
   "metadata": {},
   "outputs": [],
   "source": [
    "optimizer = torch.optim.SGD(dummy_model.parameters(), lr=0.001)"
   ]
  },
  {
   "cell_type": "markdown",
   "id": "41f7384f",
   "metadata": {},
   "source": [
    "# Action 3: Train the model"
   ]
  },
  {
   "cell_type": "code",
   "execution_count": 27,
   "id": "feda3373",
   "metadata": {},
   "outputs": [
    {
     "name": "stdout",
     "output_type": "stream",
     "text": [
      "epoch: 0 loss: 1991.9454345703125 weight: 0.45333982 bias:0.89721489\n",
      "epoch: 1 loss: 1042.2342529296875 weight: 3.04987741 bias:0.97378016\n",
      "epoch: 2 loss: 551.93212890625 weight: 1.18425488 bias:0.91776884\n",
      "epoch: 3 loss: 298.8065185546875 weight: 2.52476311 bias:0.95701629\n",
      "epoch: 4 loss: 168.12661743164062 weight: 1.56161690 bias:0.92781931\n",
      "epoch: 5 loss: 100.66110229492188 weight: 2.25368214 bias:0.94780123\n",
      "epoch: 6 loss: 65.83080291748047 weight: 1.75645208 bias:0.93244785\n",
      "epoch: 7 loss: 47.849021911621094 weight: 2.11374903 bias:0.94248390\n",
      "epoch: 8 loss: 38.56550216674805 weight: 1.85705531 bias:0.93427771\n",
      "epoch: 9 loss: 33.772605895996094 weight: 2.04152322 bias:0.93917936\n",
      "epoch: 10 loss: 31.298049926757812 weight: 1.90900970 bias:0.93466330\n",
      "epoch: 11 loss: 30.020343780517578 weight: 2.00425220 bias:0.93691450\n",
      "epoch: 12 loss: 29.36056137084961 weight: 1.93584859 bias:0.93430382\n",
      "epoch: 13 loss: 29.019773483276367 weight: 1.98502707 bias:0.93518692\n",
      "epoch: 14 loss: 28.843669891357422 weight: 1.94972098 bias:0.93356019\n",
      "epoch: 15 loss: 28.752605438232422 weight: 1.97511840 bias:0.93373728\n",
      "epoch: 16 loss: 28.705425262451172 weight: 1.95689940 bias:0.93261874\n",
      "epoch: 17 loss: 28.680908203125 weight: 1.97001970 bias:0.93243164\n",
      "epoch: 18 loss: 28.668088912963867 weight: 1.96062183 bias:0.93157578\n",
      "epoch: 19 loss: 28.66131591796875 weight: 1.96740377 bias:0.93120092\n",
      "epoch: 20 loss: 28.657651901245117 weight: 1.96256030 bias:0.93048096\n",
      "epoch: 21 loss: 28.655603408813477 weight: 1.96606970 bias:0.93000942\n",
      "epoch: 22 loss: 28.65439224243164 weight: 1.96357763 bias:0.92935985\n",
      "epoch: 23 loss: 28.653593063354492 weight: 1.96539748 bias:0.92883867\n",
      "epoch: 24 loss: 28.653024673461914 weight: 1.96411920 bias:0.92822570\n",
      "epoch: 25 loss: 28.65258026123047 weight: 1.96506715 bias:0.92767918\n",
      "epoch: 26 loss: 28.652185440063477 weight: 1.96441507 bias:0.92708540\n",
      "epoch: 27 loss: 28.651823043823242 weight: 1.96491301 bias:0.92652607\n",
      "epoch: 28 loss: 28.651477813720703 weight: 1.96458447 bias:0.92594248\n",
      "epoch: 29 loss: 28.651138305664062 weight: 1.96484983 bias:0.92537677\n",
      "epoch: 30 loss: 28.650808334350586 weight: 1.96468842 bias:0.92479867\n",
      "epoch: 31 loss: 28.650476455688477 weight: 1.96483374 bias:0.92422998\n",
      "epoch: 32 loss: 28.650146484375 weight: 1.96475840 bias:0.92365497\n",
      "epoch: 33 loss: 28.64981460571289 weight: 1.96484184 bias:0.92308497\n",
      "epoch: 34 loss: 28.649494171142578 weight: 1.96481097 bias:0.92251188\n",
      "epoch: 35 loss: 28.6491641998291 weight: 1.96486259 bias:0.92194152\n",
      "epoch: 36 loss: 28.648836135864258 weight: 1.96485448 bias:0.92136967\n",
      "epoch: 37 loss: 28.648509979248047 weight: 1.96488941 bias:0.92079937\n",
      "epoch: 38 loss: 28.64818572998047 weight: 1.96489358 bias:0.92022842\n",
      "epoch: 39 loss: 28.64785385131836 weight: 1.96491969 bias:0.91965842\n",
      "epoch: 40 loss: 28.647531509399414 weight: 1.96493018 bias:0.91908818\n",
      "epoch: 41 loss: 28.6472110748291 weight: 1.96495152 bias:0.91851854\n",
      "epoch: 42 loss: 28.646892547607422 weight: 1.96496534 bias:0.91794896\n",
      "epoch: 43 loss: 28.646554946899414 weight: 1.96498454 bias:0.91737986\n",
      "epoch: 44 loss: 28.646242141723633 weight: 1.96499968 bias:0.91681087\n",
      "epoch: 45 loss: 28.645915985107422 weight: 1.96501791 bias:0.91624224\n",
      "epoch: 46 loss: 28.645593643188477 weight: 1.96503377 bias:0.91567385\n",
      "epoch: 47 loss: 28.6452693939209 weight: 1.96505153 bias:0.91510576\n",
      "epoch: 48 loss: 28.644948959350586 weight: 1.96506763 bias:0.91453791\n",
      "epoch: 49 loss: 28.644628524780273 weight: 1.96508515 bias:0.91397041\n",
      "epoch: 50 loss: 28.644302368164062 weight: 1.96510148 bias:0.91340315\n"
     ]
    }
   ],
   "source": [
    "epochs = 50 \n",
    "losses = []\n",
    "\n",
    "epoch= 0\n",
    "while epoch <=epochs:\n",
    "    y_prediction = dummy_model.forward(X)\n",
    "    loss = criterion(y_prediction,y)\n",
    "    losses.append(loss.detach().numpy())\n",
    "    print(f'epoch: {epoch} loss: {loss.item()} weight: {dummy_model.linear.weight.item():10.8f} bias:{dummy_model.linear.bias.item():10.8f}')\n",
    "    \n",
    "    optimizer.zero_grad()\n",
    "    \n",
    "    loss.backward()\n",
    "    \n",
    "    optimizer.step()\n",
    "    epoch +=1"
   ]
  },
  {
   "cell_type": "code",
   "execution_count": 28,
   "id": "4f28f2aa",
   "metadata": {},
   "outputs": [
    {
     "data": {
      "image/png": "[encoded data removed]",
      "text/plain": [
       "<Figure size 432x288 with 1 Axes>"
      ]
     },
     "metadata": {
      "needs_background": "light"
     },
     "output_type": "display_data"
    }
   ],
   "source": [
    "plt.plot(range(epochs+1), losses)\n",
    "plt.ylabel('Loss')\n",
    "plt.xlabel('epoch');"
   ]
  },
  {
   "cell_type": "code",
   "execution_count": 29,
   "id": "8f8ca827",
   "metadata": {},
   "outputs": [],
   "source": [
    "w,b = dummy_model.linear.weight.item(), dummy_model.linear.bias.item()"
   ]
  },
  {
   "cell_type": "code",
   "execution_count": 30,
   "id": "0540a025",
   "metadata": {},
   "outputs": [],
   "source": [
    "x_inputs = np.linspace(0.0,50,50)\n",
    "y_pred = w*x_inputs + b"
   ]
  },
  {
   "cell_type": "code",
   "execution_count": 31,
   "id": "2700cf25",
   "metadata": {},
   "outputs": [
    {
     "data": {
      "text/plain": [
       "Text(0.5, 0, 'x')"
      ]
     },
     "execution_count": 31,
     "metadata": {},
     "output_type": "execute_result"
    },
    {
     "data": {
      "image/png": "[encoded data removed]",
      "text/plain": [
       "<Figure size 432x288 with 1 Axes>"
      ]
     },
     "metadata": {
      "needs_background": "light"
     },
     "output_type": "display_data"
    }
   ],
   "source": [
    "plt.scatter(X.numpy(),y.numpy())\n",
    "plt.plot(x_inputs,y_pred,color='red')\n",
    "plt.ylabel('y')\n",
    "plt.xlabel('x')"
   ]
  },
  {
   "cell_type": "code",
   "execution_count": null,
   "id": "3456bea4",
   "metadata": {},
   "outputs": [],
   "source": []
  },
  {
   "cell_type": "code",
   "execution_count": null,
   "id": "30b3c8c3",
   "metadata": {},
   "outputs": [],
   "source": []
  }
 ],
 "metadata": {
  "kernelspec": {
   "display_name": "Python 3 (ipykernel)",
   "language": "python",
   "name": "python3"
  },
  "language_info": {
   "codemirror_mode": {
    "name": "ipython",
    "version": 3
   },
   "file_extension": ".py",
   "mimetype": "text/x-python",
   "name": "python",
   "nbconvert_exporter": "python",
   "pygments_lexer": "ipython3",
   "version": "3.10.4"
  }
 },
 "nbformat": 4,
 "nbformat_minor": 5
}
