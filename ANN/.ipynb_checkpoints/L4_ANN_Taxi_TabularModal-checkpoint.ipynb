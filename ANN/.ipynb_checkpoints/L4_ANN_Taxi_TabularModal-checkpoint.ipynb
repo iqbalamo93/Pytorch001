{
 "cells": [
  {
   "cell_type": "code",
   "execution_count": 83,
   "id": "4325f853",
   "metadata": {},
   "outputs": [],
   "source": [
    "import torch \n",
    "import torch.nn as nn\n",
    "\n",
    "import numpy as np\n",
    "import pandas as pd\n",
    "import matplotlib.pyplot as plt"
   ]
  },
  {
   "cell_type": "code",
   "execution_count": 2,
   "id": "bbf756f2",
   "metadata": {},
   "outputs": [],
   "source": [
    "df = pd.read_csv('../../Data/NYCTaxiFares.csv')"
   ]
  },
  {
   "cell_type": "code",
   "execution_count": 3,
   "id": "21d21c90",
   "metadata": {},
   "outputs": [
    {
     "data": {
      "text/html": [
       "<div>\n",
       "<style scoped>\n",
       "    .dataframe tbody tr th:only-of-type {\n",
       "        vertical-align: middle;\n",
       "    }\n",
       "\n",
       "    .dataframe tbody tr th {\n",
       "        vertical-align: top;\n",
       "    }\n",
       "\n",
       "    .dataframe thead th {\n",
       "        text-align: right;\n",
       "    }\n",
       "</style>\n",
       "<table border=\"1\" class=\"dataframe\">\n",
       "  <thead>\n",
       "    <tr style=\"text-align: right;\">\n",
       "      <th></th>\n",
       "      <th>pickup_datetime</th>\n",
       "      <th>fare_amount</th>\n",
       "      <th>fare_class</th>\n",
       "      <th>pickup_longitude</th>\n",
       "      <th>pickup_latitude</th>\n",
       "      <th>dropoff_longitude</th>\n",
       "      <th>dropoff_latitude</th>\n",
       "      <th>passenger_count</th>\n",
       "    </tr>\n",
       "  </thead>\n",
       "  <tbody>\n",
       "    <tr>\n",
       "      <th>0</th>\n",
       "      <td>2010-04-19 08:17:56 UTC</td>\n",
       "      <td>6.5</td>\n",
       "      <td>0</td>\n",
       "      <td>-73.992365</td>\n",
       "      <td>40.730521</td>\n",
       "      <td>-73.975499</td>\n",
       "      <td>40.744746</td>\n",
       "      <td>1</td>\n",
       "    </tr>\n",
       "    <tr>\n",
       "      <th>1</th>\n",
       "      <td>2010-04-17 15:43:53 UTC</td>\n",
       "      <td>6.9</td>\n",
       "      <td>0</td>\n",
       "      <td>-73.990078</td>\n",
       "      <td>40.740558</td>\n",
       "      <td>-73.974232</td>\n",
       "      <td>40.744114</td>\n",
       "      <td>1</td>\n",
       "    </tr>\n",
       "    <tr>\n",
       "      <th>2</th>\n",
       "      <td>2010-04-17 11:23:26 UTC</td>\n",
       "      <td>10.1</td>\n",
       "      <td>1</td>\n",
       "      <td>-73.994149</td>\n",
       "      <td>40.751118</td>\n",
       "      <td>-73.960064</td>\n",
       "      <td>40.766235</td>\n",
       "      <td>2</td>\n",
       "    </tr>\n",
       "    <tr>\n",
       "      <th>3</th>\n",
       "      <td>2010-04-11 21:25:03 UTC</td>\n",
       "      <td>8.9</td>\n",
       "      <td>0</td>\n",
       "      <td>-73.990485</td>\n",
       "      <td>40.756422</td>\n",
       "      <td>-73.971205</td>\n",
       "      <td>40.748192</td>\n",
       "      <td>1</td>\n",
       "    </tr>\n",
       "    <tr>\n",
       "      <th>4</th>\n",
       "      <td>2010-04-17 02:19:01 UTC</td>\n",
       "      <td>19.7</td>\n",
       "      <td>1</td>\n",
       "      <td>-73.990976</td>\n",
       "      <td>40.734202</td>\n",
       "      <td>-73.905956</td>\n",
       "      <td>40.743115</td>\n",
       "      <td>1</td>\n",
       "    </tr>\n",
       "  </tbody>\n",
       "</table>\n",
       "</div>"
      ],
      "text/plain": [
       "           pickup_datetime  fare_amount  fare_class  pickup_longitude  \\\n",
       "0  2010-04-19 08:17:56 UTC          6.5           0        -73.992365   \n",
       "1  2010-04-17 15:43:53 UTC          6.9           0        -73.990078   \n",
       "2  2010-04-17 11:23:26 UTC         10.1           1        -73.994149   \n",
       "3  2010-04-11 21:25:03 UTC          8.9           0        -73.990485   \n",
       "4  2010-04-17 02:19:01 UTC         19.7           1        -73.990976   \n",
       "\n",
       "   pickup_latitude  dropoff_longitude  dropoff_latitude  passenger_count  \n",
       "0        40.730521         -73.975499         40.744746                1  \n",
       "1        40.740558         -73.974232         40.744114                1  \n",
       "2        40.751118         -73.960064         40.766235                2  \n",
       "3        40.756422         -73.971205         40.748192                1  \n",
       "4        40.734202         -73.905956         40.743115                1  "
      ]
     },
     "execution_count": 3,
     "metadata": {},
     "output_type": "execute_result"
    }
   ],
   "source": [
    "df.head()"
   ]
  },
  {
   "cell_type": "code",
   "execution_count": 4,
   "id": "1f95d4c8",
   "metadata": {},
   "outputs": [
    {
     "data": {
      "text/plain": [
       "count    120000.000000\n",
       "mean         10.040326\n",
       "std           7.500134\n",
       "min           2.500000\n",
       "25%           5.700000\n",
       "50%           7.700000\n",
       "75%          11.300000\n",
       "max          49.900000\n",
       "Name: fare_amount, dtype: float64"
      ]
     },
     "execution_count": 4,
     "metadata": {},
     "output_type": "execute_result"
    }
   ],
   "source": [
    "df['fare_amount'].describe()"
   ]
  },
  {
   "cell_type": "markdown",
   "id": "ebfb83f0",
   "metadata": {},
   "source": [
    "# Feature eng..."
   ]
  },
  {
   "cell_type": "code",
   "execution_count": 5,
   "id": "991502cf",
   "metadata": {},
   "outputs": [],
   "source": [
    "def haversine_distance(df,lat1, long1, lat2, long2):\n",
    "\n",
    "\n",
    "    '''\n",
    "    Calculates the haversine distance between 2 sets of GPS coordinates in df\n",
    "    '''\n",
    "    r = 6371 #average radius of Earth in kilometers\n",
    "    \n",
    "    phi1 = np.radians(df[lat1])\n",
    "    phi2 = np.radians(df[lat2])\n",
    "    \n",
    "    delta_phi = np.radians(df[lat2]-df[lat1])\n",
    "    delta_lambda = np.radians(df[long2]-df[long1])\n",
    "    \n",
    "    a = np.sin(delta_phi/2)**2 + np.cos(phi1) * np.cos(phi2) * np.sin(delta_lambda/2)**2\n",
    "    c = 2 * np.arctan2(np.sqrt(a), np.sqrt(1-a))\n",
    "    d = (r * c) # in kilometers\n",
    "    \n",
    "    return d\n"
   ]
  },
  {
   "cell_type": "code",
   "execution_count": 6,
   "id": "e69910d3",
   "metadata": {},
   "outputs": [
    {
     "data": {
      "text/html": [
       "<div>\n",
       "<style scoped>\n",
       "    .dataframe tbody tr th:only-of-type {\n",
       "        vertical-align: middle;\n",
       "    }\n",
       "\n",
       "    .dataframe tbody tr th {\n",
       "        vertical-align: top;\n",
       "    }\n",
       "\n",
       "    .dataframe thead th {\n",
       "        text-align: right;\n",
       "    }\n",
       "</style>\n",
       "<table border=\"1\" class=\"dataframe\">\n",
       "  <thead>\n",
       "    <tr style=\"text-align: right;\">\n",
       "      <th></th>\n",
       "      <th>pickup_datetime</th>\n",
       "      <th>fare_amount</th>\n",
       "      <th>fare_class</th>\n",
       "      <th>pickup_longitude</th>\n",
       "      <th>pickup_latitude</th>\n",
       "      <th>dropoff_longitude</th>\n",
       "      <th>dropoff_latitude</th>\n",
       "      <th>passenger_count</th>\n",
       "      <th>dist_km</th>\n",
       "    </tr>\n",
       "  </thead>\n",
       "  <tbody>\n",
       "    <tr>\n",
       "      <th>0</th>\n",
       "      <td>2010-04-19 08:17:56 UTC</td>\n",
       "      <td>6.5</td>\n",
       "      <td>0</td>\n",
       "      <td>-73.992365</td>\n",
       "      <td>40.730521</td>\n",
       "      <td>-73.975499</td>\n",
       "      <td>40.744746</td>\n",
       "      <td>1</td>\n",
       "      <td>2.126312</td>\n",
       "    </tr>\n",
       "    <tr>\n",
       "      <th>1</th>\n",
       "      <td>2010-04-17 15:43:53 UTC</td>\n",
       "      <td>6.9</td>\n",
       "      <td>0</td>\n",
       "      <td>-73.990078</td>\n",
       "      <td>40.740558</td>\n",
       "      <td>-73.974232</td>\n",
       "      <td>40.744114</td>\n",
       "      <td>1</td>\n",
       "      <td>1.392307</td>\n",
       "    </tr>\n",
       "    <tr>\n",
       "      <th>2</th>\n",
       "      <td>2010-04-17 11:23:26 UTC</td>\n",
       "      <td>10.1</td>\n",
       "      <td>1</td>\n",
       "      <td>-73.994149</td>\n",
       "      <td>40.751118</td>\n",
       "      <td>-73.960064</td>\n",
       "      <td>40.766235</td>\n",
       "      <td>2</td>\n",
       "      <td>3.326763</td>\n",
       "    </tr>\n",
       "    <tr>\n",
       "      <th>3</th>\n",
       "      <td>2010-04-11 21:25:03 UTC</td>\n",
       "      <td>8.9</td>\n",
       "      <td>0</td>\n",
       "      <td>-73.990485</td>\n",
       "      <td>40.756422</td>\n",
       "      <td>-73.971205</td>\n",
       "      <td>40.748192</td>\n",
       "      <td>1</td>\n",
       "      <td>1.864129</td>\n",
       "    </tr>\n",
       "    <tr>\n",
       "      <th>4</th>\n",
       "      <td>2010-04-17 02:19:01 UTC</td>\n",
       "      <td>19.7</td>\n",
       "      <td>1</td>\n",
       "      <td>-73.990976</td>\n",
       "      <td>40.734202</td>\n",
       "      <td>-73.905956</td>\n",
       "      <td>40.743115</td>\n",
       "      <td>1</td>\n",
       "      <td>7.231321</td>\n",
       "    </tr>\n",
       "  </tbody>\n",
       "</table>\n",
       "</div>"
      ],
      "text/plain": [
       "           pickup_datetime  fare_amount  fare_class  pickup_longitude  \\\n",
       "0  2010-04-19 08:17:56 UTC          6.5           0        -73.992365   \n",
       "1  2010-04-17 15:43:53 UTC          6.9           0        -73.990078   \n",
       "2  2010-04-17 11:23:26 UTC         10.1           1        -73.994149   \n",
       "3  2010-04-11 21:25:03 UTC          8.9           0        -73.990485   \n",
       "4  2010-04-17 02:19:01 UTC         19.7           1        -73.990976   \n",
       "\n",
       "   pickup_latitude  dropoff_longitude  dropoff_latitude  passenger_count  \\\n",
       "0        40.730521         -73.975499         40.744746                1   \n",
       "1        40.740558         -73.974232         40.744114                1   \n",
       "2        40.751118         -73.960064         40.766235                2   \n",
       "3        40.756422         -73.971205         40.748192                1   \n",
       "4        40.734202         -73.905956         40.743115                1   \n",
       "\n",
       "    dist_km  \n",
       "0  2.126312  \n",
       "1  1.392307  \n",
       "2  3.326763  \n",
       "3  1.864129  \n",
       "4  7.231321  "
      ]
     },
     "execution_count": 6,
     "metadata": {},
     "output_type": "execute_result"
    }
   ],
   "source": [
    "df['dist_km'] = haversine_distance(df,'pickup_latitude', 'pickup_longitude', 'dropoff_latitude', 'dropoff_longitude')\n",
    "df.head()"
   ]
  },
  {
   "cell_type": "markdown",
   "id": "f1b25177",
   "metadata": {},
   "source": [
    "## Add a datetime column and derive useful statistics"
   ]
  },
  {
   "cell_type": "code",
   "execution_count": 7,
   "id": "e038b995",
   "metadata": {},
   "outputs": [],
   "source": [
    "df['EDTdate'] = pd.to_datetime(df['pickup_datetime'], format='%Y-%m-%d %H:%M:%S' ,infer_datetime_format=True)"
   ]
  },
  {
   "cell_type": "code",
   "execution_count": 8,
   "id": "26d7ddef",
   "metadata": {},
   "outputs": [],
   "source": [
    "df['EDTdate'] = df['EDTdate'].dt.tz_convert('US/Eastern')\n",
    "df['Hour'] = df['EDTdate'].dt.hour\n",
    "df['AMorPM'] = np.where(df['Hour']<12,'am','pm')\n",
    "df['Weekday'] = df['EDTdate'].dt.strftime(\"%a\")"
   ]
  },
  {
   "cell_type": "code",
   "execution_count": 9,
   "id": "a3aea27b",
   "metadata": {},
   "outputs": [
    {
     "data": {
      "text/html": [
       "<div>\n",
       "<style scoped>\n",
       "    .dataframe tbody tr th:only-of-type {\n",
       "        vertical-align: middle;\n",
       "    }\n",
       "\n",
       "    .dataframe tbody tr th {\n",
       "        vertical-align: top;\n",
       "    }\n",
       "\n",
       "    .dataframe thead th {\n",
       "        text-align: right;\n",
       "    }\n",
       "</style>\n",
       "<table border=\"1\" class=\"dataframe\">\n",
       "  <thead>\n",
       "    <tr style=\"text-align: right;\">\n",
       "      <th></th>\n",
       "      <th>pickup_datetime</th>\n",
       "      <th>fare_amount</th>\n",
       "      <th>fare_class</th>\n",
       "      <th>pickup_longitude</th>\n",
       "      <th>pickup_latitude</th>\n",
       "      <th>dropoff_longitude</th>\n",
       "      <th>dropoff_latitude</th>\n",
       "      <th>passenger_count</th>\n",
       "      <th>dist_km</th>\n",
       "      <th>EDTdate</th>\n",
       "      <th>Hour</th>\n",
       "      <th>AMorPM</th>\n",
       "      <th>Weekday</th>\n",
       "    </tr>\n",
       "  </thead>\n",
       "  <tbody>\n",
       "    <tr>\n",
       "      <th>0</th>\n",
       "      <td>2010-04-19 08:17:56 UTC</td>\n",
       "      <td>6.5</td>\n",
       "      <td>0</td>\n",
       "      <td>-73.992365</td>\n",
       "      <td>40.730521</td>\n",
       "      <td>-73.975499</td>\n",
       "      <td>40.744746</td>\n",
       "      <td>1</td>\n",
       "      <td>2.126312</td>\n",
       "      <td>2010-04-19 04:17:56-04:00</td>\n",
       "      <td>4</td>\n",
       "      <td>am</td>\n",
       "      <td>Mon</td>\n",
       "    </tr>\n",
       "    <tr>\n",
       "      <th>1</th>\n",
       "      <td>2010-04-17 15:43:53 UTC</td>\n",
       "      <td>6.9</td>\n",
       "      <td>0</td>\n",
       "      <td>-73.990078</td>\n",
       "      <td>40.740558</td>\n",
       "      <td>-73.974232</td>\n",
       "      <td>40.744114</td>\n",
       "      <td>1</td>\n",
       "      <td>1.392307</td>\n",
       "      <td>2010-04-17 11:43:53-04:00</td>\n",
       "      <td>11</td>\n",
       "      <td>am</td>\n",
       "      <td>Sat</td>\n",
       "    </tr>\n",
       "    <tr>\n",
       "      <th>2</th>\n",
       "      <td>2010-04-17 11:23:26 UTC</td>\n",
       "      <td>10.1</td>\n",
       "      <td>1</td>\n",
       "      <td>-73.994149</td>\n",
       "      <td>40.751118</td>\n",
       "      <td>-73.960064</td>\n",
       "      <td>40.766235</td>\n",
       "      <td>2</td>\n",
       "      <td>3.326763</td>\n",
       "      <td>2010-04-17 07:23:26-04:00</td>\n",
       "      <td>7</td>\n",
       "      <td>am</td>\n",
       "      <td>Sat</td>\n",
       "    </tr>\n",
       "    <tr>\n",
       "      <th>3</th>\n",
       "      <td>2010-04-11 21:25:03 UTC</td>\n",
       "      <td>8.9</td>\n",
       "      <td>0</td>\n",
       "      <td>-73.990485</td>\n",
       "      <td>40.756422</td>\n",
       "      <td>-73.971205</td>\n",
       "      <td>40.748192</td>\n",
       "      <td>1</td>\n",
       "      <td>1.864129</td>\n",
       "      <td>2010-04-11 17:25:03-04:00</td>\n",
       "      <td>17</td>\n",
       "      <td>pm</td>\n",
       "      <td>Sun</td>\n",
       "    </tr>\n",
       "    <tr>\n",
       "      <th>4</th>\n",
       "      <td>2010-04-17 02:19:01 UTC</td>\n",
       "      <td>19.7</td>\n",
       "      <td>1</td>\n",
       "      <td>-73.990976</td>\n",
       "      <td>40.734202</td>\n",
       "      <td>-73.905956</td>\n",
       "      <td>40.743115</td>\n",
       "      <td>1</td>\n",
       "      <td>7.231321</td>\n",
       "      <td>2010-04-16 22:19:01-04:00</td>\n",
       "      <td>22</td>\n",
       "      <td>pm</td>\n",
       "      <td>Fri</td>\n",
       "    </tr>\n",
       "  </tbody>\n",
       "</table>\n",
       "</div>"
      ],
      "text/plain": [
       "           pickup_datetime  fare_amount  fare_class  pickup_longitude  \\\n",
       "0  2010-04-19 08:17:56 UTC          6.5           0        -73.992365   \n",
       "1  2010-04-17 15:43:53 UTC          6.9           0        -73.990078   \n",
       "2  2010-04-17 11:23:26 UTC         10.1           1        -73.994149   \n",
       "3  2010-04-11 21:25:03 UTC          8.9           0        -73.990485   \n",
       "4  2010-04-17 02:19:01 UTC         19.7           1        -73.990976   \n",
       "\n",
       "   pickup_latitude  dropoff_longitude  dropoff_latitude  passenger_count  \\\n",
       "0        40.730521         -73.975499         40.744746                1   \n",
       "1        40.740558         -73.974232         40.744114                1   \n",
       "2        40.751118         -73.960064         40.766235                2   \n",
       "3        40.756422         -73.971205         40.748192                1   \n",
       "4        40.734202         -73.905956         40.743115                1   \n",
       "\n",
       "    dist_km                   EDTdate  Hour AMorPM Weekday  \n",
       "0  2.126312 2010-04-19 04:17:56-04:00     4     am     Mon  \n",
       "1  1.392307 2010-04-17 11:43:53-04:00    11     am     Sat  \n",
       "2  3.326763 2010-04-17 07:23:26-04:00     7     am     Sat  \n",
       "3  1.864129 2010-04-11 17:25:03-04:00    17     pm     Sun  \n",
       "4  7.231321 2010-04-16 22:19:01-04:00    22     pm     Fri  "
      ]
     },
     "execution_count": 9,
     "metadata": {},
     "output_type": "execute_result"
    }
   ],
   "source": [
    "df.head()"
   ]
  },
  {
   "cell_type": "markdown",
   "id": "c46adf66",
   "metadata": {},
   "source": [
    "# Disinguishing cat(Nominal) and continous var\n",
    "\n",
    "we will use  pytorch embeddings to do one hot encoding. Incase you are thinking of why not one hot"
   ]
  },
  {
   "cell_type": "code",
   "execution_count": 10,
   "id": "b5485604",
   "metadata": {},
   "outputs": [],
   "source": [
    "cat_cols = ['Hour','AMorPM','Weekday']\n",
    "cont_cols = ['pickup_longitude','pickup_latitude','dropoff_longitude','dropoff_latitude','passenger_count','dist_km']"
   ]
  },
  {
   "cell_type": "code",
   "execution_count": 11,
   "id": "d3cd445e",
   "metadata": {},
   "outputs": [],
   "source": [
    "y_col = ['fare_amount']"
   ]
  },
  {
   "cell_type": "code",
   "execution_count": 12,
   "id": "baa41cda",
   "metadata": {},
   "outputs": [],
   "source": [
    "for cat in cat_cols:\n",
    "    df[cat] = df[cat].astype('category')"
   ]
  },
  {
   "cell_type": "code",
   "execution_count": 13,
   "id": "9de2375d",
   "metadata": {},
   "outputs": [
    {
     "data": {
      "text/plain": [
       "pickup_datetime                          object\n",
       "fare_amount                             float64\n",
       "fare_class                                int64\n",
       "pickup_longitude                        float64\n",
       "pickup_latitude                         float64\n",
       "dropoff_longitude                       float64\n",
       "dropoff_latitude                        float64\n",
       "passenger_count                           int64\n",
       "dist_km                                 float64\n",
       "EDTdate              datetime64[ns, US/Eastern]\n",
       "Hour                                   category\n",
       "AMorPM                                 category\n",
       "Weekday                                category\n",
       "dtype: object"
      ]
     },
     "execution_count": 13,
     "metadata": {},
     "output_type": "execute_result"
    }
   ],
   "source": [
    "df.dtypes"
   ]
  },
  {
   "cell_type": "code",
   "execution_count": 14,
   "id": "9672174a",
   "metadata": {},
   "outputs": [
    {
     "data": {
      "text/plain": [
       "0     4\n",
       "1    11\n",
       "2     7\n",
       "3    17\n",
       "4    22\n",
       "Name: Hour, dtype: category\n",
       "Categories (24, int64): [0, 1, 2, 3, ..., 20, 21, 22, 23]"
      ]
     },
     "execution_count": 14,
     "metadata": {},
     "output_type": "execute_result"
    }
   ],
   "source": [
    "df['Hour'].head()"
   ]
  },
  {
   "cell_type": "code",
   "execution_count": 15,
   "id": "9e9107b3",
   "metadata": {},
   "outputs": [
    {
     "data": {
      "text/plain": [
       "0    Mon\n",
       "1    Sat\n",
       "2    Sat\n",
       "3    Sun\n",
       "4    Fri\n",
       "Name: Weekday, dtype: category\n",
       "Categories (7, object): ['Fri', 'Mon', 'Sat', 'Sun', 'Thu', 'Tue', 'Wed']"
      ]
     },
     "execution_count": 15,
     "metadata": {},
     "output_type": "execute_result"
    }
   ],
   "source": [
    "df['Weekday'].head()"
   ]
  },
  {
   "cell_type": "code",
   "execution_count": 16,
   "id": "37f02603",
   "metadata": {},
   "outputs": [
    {
     "data": {
      "text/plain": [
       "0         1\n",
       "1         2\n",
       "2         2\n",
       "3         3\n",
       "4         0\n",
       "         ..\n",
       "119995    3\n",
       "119996    0\n",
       "119997    3\n",
       "119998    5\n",
       "119999    2\n",
       "Length: 120000, dtype: int8"
      ]
     },
     "execution_count": 16,
     "metadata": {},
     "output_type": "execute_result"
    }
   ],
   "source": [
    "df['Weekday'].cat.codes"
   ]
  },
  {
   "cell_type": "code",
   "execution_count": 17,
   "id": "4c9c5ad1",
   "metadata": {},
   "outputs": [
    {
     "data": {
      "text/plain": [
       "0         1\n",
       "1         2\n",
       "2         2\n",
       "3         3\n",
       "4         0\n",
       "         ..\n",
       "119995    3\n",
       "119996    0\n",
       "119997    3\n",
       "119998    5\n",
       "119999    2\n",
       "Length: 120000, dtype: int8"
      ]
     },
     "execution_count": 17,
     "metadata": {},
     "output_type": "execute_result"
    }
   ],
   "source": [
    "df['Weekday'].cat.codes"
   ]
  },
  {
   "cell_type": "code",
   "execution_count": 18,
   "id": "910db8e1",
   "metadata": {},
   "outputs": [
    {
     "data": {
      "text/plain": [
       "array([1, 2, 2, ..., 3, 5, 2], dtype=int8)"
      ]
     },
     "execution_count": 18,
     "metadata": {},
     "output_type": "execute_result"
    }
   ],
   "source": [
    "#numpy array\n",
    "df['Weekday'].cat.codes.values"
   ]
  },
  {
   "cell_type": "code",
   "execution_count": 19,
   "id": "6a762c22",
   "metadata": {},
   "outputs": [],
   "source": [
    "hr = df['Hour'].cat.codes.values\n",
    "ampm = df['AMorPM'].cat.codes.values\n",
    "wkdy = df['Weekday'].cat.codes.values"
   ]
  },
  {
   "cell_type": "code",
   "execution_count": 20,
   "id": "c873054c",
   "metadata": {},
   "outputs": [],
   "source": [
    "cats = np.stack([hr,ampm,wkdy],axis=1)"
   ]
  },
  {
   "cell_type": "code",
   "execution_count": 21,
   "id": "82c407d0",
   "metadata": {},
   "outputs": [
    {
     "data": {
      "text/plain": [
       "array([[ 4,  0,  1],\n",
       "       [11,  0,  2],\n",
       "       [ 7,  0,  2],\n",
       "       ...,\n",
       "       [14,  1,  3],\n",
       "       [ 4,  0,  5],\n",
       "       [12,  1,  2]], dtype=int8)"
      ]
     },
     "execution_count": 21,
     "metadata": {},
     "output_type": "execute_result"
    }
   ],
   "source": [
    "cats"
   ]
  },
  {
   "cell_type": "code",
   "execution_count": 22,
   "id": "ae6c417e",
   "metadata": {},
   "outputs": [],
   "source": [
    "#one line for what we did is\n",
    "cats = np.stack([df[col].cat.codes.values for col in cat_cols],1)"
   ]
  },
  {
   "cell_type": "code",
   "execution_count": 23,
   "id": "321ba698",
   "metadata": {},
   "outputs": [
    {
     "data": {
      "text/plain": [
       "array([[ 4,  0,  1],\n",
       "       [11,  0,  2],\n",
       "       [ 7,  0,  2],\n",
       "       ...,\n",
       "       [14,  1,  3],\n",
       "       [ 4,  0,  5],\n",
       "       [12,  1,  2]], dtype=int8)"
      ]
     },
     "execution_count": 23,
     "metadata": {},
     "output_type": "execute_result"
    }
   ],
   "source": [
    "cats"
   ]
  },
  {
   "cell_type": "code",
   "execution_count": 24,
   "id": "90685850",
   "metadata": {},
   "outputs": [],
   "source": [
    "cats = torch.tensor(cats, dtype=torch.int64)"
   ]
  },
  {
   "cell_type": "code",
   "execution_count": 25,
   "id": "2119d396",
   "metadata": {},
   "outputs": [],
   "source": [
    "conts = np.stack([df[cols].values for cols in cont_cols],axis=1)"
   ]
  },
  {
   "cell_type": "code",
   "execution_count": 26,
   "id": "5848dfad",
   "metadata": {},
   "outputs": [],
   "source": [
    "conts = torch.tensor(conts, dtype=torch.float)"
   ]
  },
  {
   "cell_type": "code",
   "execution_count": 27,
   "id": "63db0503",
   "metadata": {},
   "outputs": [],
   "source": [
    "y = torch.tensor(df[y_col].values,dtype=torch.float)#make sure shape i s(m,1) i.e column vector"
   ]
  },
  {
   "cell_type": "code",
   "execution_count": 28,
   "id": "db265771",
   "metadata": {},
   "outputs": [
    {
     "data": {
      "text/plain": [
       "torch.Size([120000, 3])"
      ]
     },
     "execution_count": 28,
     "metadata": {},
     "output_type": "execute_result"
    }
   ],
   "source": [
    "cats.shape"
   ]
  },
  {
   "cell_type": "code",
   "execution_count": 107,
   "id": "210cb5e1",
   "metadata": {},
   "outputs": [
    {
     "data": {
      "text/plain": [
       "torch.Size([120000, 6])"
      ]
     },
     "execution_count": 107,
     "metadata": {},
     "output_type": "execute_result"
    }
   ],
   "source": [
    "conts.shape"
   ]
  },
  {
   "cell_type": "code",
   "execution_count": 30,
   "id": "286ec991",
   "metadata": {},
   "outputs": [
    {
     "data": {
      "text/plain": [
       "torch.Size([120000, 1])"
      ]
     },
     "execution_count": 30,
     "metadata": {},
     "output_type": "execute_result"
    }
   ],
   "source": [
    "y.shape"
   ]
  },
  {
   "cell_type": "markdown",
   "id": "010b3c19",
   "metadata": {},
   "source": [
    "### Using embedding layers\n",
    "\n",
    "* Here we do one hot encodings"
   ]
  },
  {
   "cell_type": "code",
   "execution_count": 31,
   "id": "7ab02782",
   "metadata": {},
   "outputs": [],
   "source": [
    "cat_sizes = [len(df[col].cat.categories) for col in cat_cols]"
   ]
  },
  {
   "cell_type": "code",
   "execution_count": 32,
   "id": "b162e42c",
   "metadata": {},
   "outputs": [
    {
     "data": {
      "text/plain": [
       "[('Hour', 24), ('AMorPM', 2), ('Weekday', 7)]"
      ]
     },
     "execution_count": 32,
     "metadata": {},
     "output_type": "execute_result"
    }
   ],
   "source": [
    "list(zip(cat_cols,cat_sizes))"
   ]
  },
  {
   "cell_type": "code",
   "execution_count": 33,
   "id": "7793eaee",
   "metadata": {},
   "outputs": [],
   "source": [
    "emb_szs = [(size,min(50,size+1)//2) for size in cat_sizes]"
   ]
  },
  {
   "cell_type": "code",
   "execution_count": 34,
   "id": "9e14874c",
   "metadata": {},
   "outputs": [
    {
     "data": {
      "text/plain": [
       "[(24, 12), (2, 1), (7, 4)]"
      ]
     },
     "execution_count": 34,
     "metadata": {},
     "output_type": "execute_result"
    }
   ],
   "source": [
    "emb_szs"
   ]
  },
  {
   "cell_type": "markdown",
   "id": "3465a36c",
   "metadata": {},
   "source": [
    "# Full model"
   ]
  },
  {
   "cell_type": "markdown",
   "id": "56f4aaa9",
   "metadata": {},
   "source": [
    "How embeddings work.\n",
    "*  walkthrough on first 5 rows"
   ]
  },
  {
   "cell_type": "code",
   "execution_count": 35,
   "id": "1563ca0b",
   "metadata": {},
   "outputs": [],
   "source": [
    "cat_dummy = cats[:5]"
   ]
  },
  {
   "cell_type": "code",
   "execution_count": 36,
   "id": "af82580e",
   "metadata": {},
   "outputs": [
    {
     "data": {
      "text/plain": [
       "tensor([[ 4,  0,  1],\n",
       "        [11,  0,  2],\n",
       "        [ 7,  0,  2],\n",
       "        [17,  1,  3],\n",
       "        [22,  1,  0]])"
      ]
     },
     "execution_count": 36,
     "metadata": {},
     "output_type": "execute_result"
    }
   ],
   "source": [
    "cat_dummy"
   ]
  },
  {
   "cell_type": "code",
   "execution_count": 37,
   "id": "46701dd7",
   "metadata": {},
   "outputs": [
    {
     "data": {
      "text/plain": [
       "[('Hour', 24), ('AMorPM', 2), ('Weekday', 7)]"
      ]
     },
     "execution_count": 37,
     "metadata": {},
     "output_type": "execute_result"
    }
   ],
   "source": [
    "list(zip(cat_cols,cat_sizes))"
   ]
  },
  {
   "cell_type": "code",
   "execution_count": 38,
   "id": "a6cfba33",
   "metadata": {},
   "outputs": [
    {
     "data": {
      "text/plain": [
       "[Embedding(24, 12), Embedding(2, 1), Embedding(7, 4)]"
      ]
     },
     "execution_count": 38,
     "metadata": {},
     "output_type": "execute_result"
    }
   ],
   "source": [
    "[nn.Embedding(ni,nf) for ni,nf in emb_szs]"
   ]
  },
  {
   "cell_type": "code",
   "execution_count": 39,
   "id": "76eb1612",
   "metadata": {},
   "outputs": [],
   "source": [
    "#part of forward method\n",
    "selfembeds = nn.ModuleList([nn.Embedding(ni,nf) for ni,nf in emb_szs])"
   ]
  },
  {
   "cell_type": "code",
   "execution_count": 61,
   "id": "b1fb1ce2",
   "metadata": {},
   "outputs": [
    {
     "data": {
      "text/plain": [
       "ModuleList(\n",
       "  (0): Embedding(24, 12)\n",
       "  (1): Embedding(2, 1)\n",
       "  (2): Embedding(7, 4)\n",
       ")"
      ]
     },
     "execution_count": 61,
     "metadata": {},
     "output_type": "execute_result"
    }
   ],
   "source": [
    "selfembeds"
   ]
  },
  {
   "cell_type": "code",
   "execution_count": 41,
   "id": "ff26f3b4",
   "metadata": {},
   "outputs": [],
   "source": [
    "embeddingz = []\n",
    "for i,e in enumerate(selfembeds):\n",
    "    embeddingz.append(e(cat_dummy[:,i]))"
   ]
  },
  {
   "cell_type": "code",
   "execution_count": 42,
   "id": "5530a00a",
   "metadata": {},
   "outputs": [
    {
     "data": {
      "text/plain": [
       "[tensor([[-0.0099,  2.1081, -0.3449,  0.0157, -0.6134, -0.4468, -0.2081, -0.9935,\n",
       "          -1.4102,  1.2612, -0.5315,  1.0272],\n",
       "         [ 0.1864, -0.3286, -1.5142,  0.9716, -2.0130,  1.6936,  0.2642,  0.0587,\n",
       "          -1.8423,  0.9034,  0.5953, -0.2455],\n",
       "         [ 0.2100,  0.4958,  0.4505, -0.8544, -1.1846,  1.2074, -0.7880,  1.2714,\n",
       "           0.9608,  0.1988, -1.1451, -0.1656],\n",
       "         [-1.1580,  0.4702,  0.0442, -0.5217, -1.0773, -0.8127,  0.0878,  1.2420,\n",
       "           0.5959, -0.8787, -0.9985,  0.8298],\n",
       "         [-1.6144, -2.0590, -0.5502,  0.4280, -0.1891, -0.6677, -0.7733,  0.2619,\n",
       "          -0.2798, -0.4935, -0.7826,  0.6454]], grad_fn=<EmbeddingBackward0>),\n",
       " tensor([[ 0.4802],\n",
       "         [ 0.4802],\n",
       "         [ 0.4802],\n",
       "         [-1.4262],\n",
       "         [-1.4262]], grad_fn=<EmbeddingBackward0>),\n",
       " tensor([[ 1.4957, -0.1553,  0.1343, -0.9019],\n",
       "         [-0.6002,  1.2744, -0.6830,  0.6717],\n",
       "         [-0.6002,  1.2744, -0.6830,  0.6717],\n",
       "         [ 1.5997, -0.4464,  0.2442,  1.0775],\n",
       "         [-0.1639,  0.4013, -0.1351, -1.6054]], grad_fn=<EmbeddingBackward0>)]"
      ]
     },
     "execution_count": 42,
     "metadata": {},
     "output_type": "execute_result"
    }
   ],
   "source": [
    "embeddingz"
   ]
  },
  {
   "cell_type": "code",
   "execution_count": 43,
   "id": "492ee6c7",
   "metadata": {},
   "outputs": [
    {
     "data": {
      "text/plain": [
       "tensor([[ 4,  0,  1],\n",
       "        [11,  0,  2],\n",
       "        [ 7,  0,  2],\n",
       "        [17,  1,  3],\n",
       "        [22,  1,  0]])"
      ]
     },
     "execution_count": 43,
     "metadata": {},
     "output_type": "execute_result"
    }
   ],
   "source": [
    "cat_dummy"
   ]
  },
  {
   "cell_type": "code",
   "execution_count": 82,
   "id": "72221103",
   "metadata": {},
   "outputs": [
    {
     "name": "stdout",
     "output_type": "stream",
     "text": [
      "torch.Size([5, 12])\n",
      "torch.Size([24, 12])\n"
     ]
    }
   ],
   "source": [
    "print(embeddingz[0].shape)\n",
    "print(selfembeds[0].weight.data.shape)"
   ]
  },
  {
   "cell_type": "code",
   "execution_count": 79,
   "id": "c8382be3",
   "metadata": {},
   "outputs": [
    {
     "data": {
      "text/plain": [
       "tensor([[-0.0099,  2.1081, -0.3449,  0.0157, -0.6134, -0.4468, -0.2081, -0.9935,\n",
       "         -1.4102,  1.2612, -0.5315,  1.0272],\n",
       "        [ 0.1864, -0.3286, -1.5142,  0.9716, -2.0130,  1.6936,  0.2642,  0.0587,\n",
       "         -1.8423,  0.9034,  0.5953, -0.2455],\n",
       "        [ 0.2100,  0.4958,  0.4505, -0.8544, -1.1846,  1.2074, -0.7880,  1.2714,\n",
       "          0.9608,  0.1988, -1.1451, -0.1656],\n",
       "        [-1.1580,  0.4702,  0.0442, -0.5217, -1.0773, -0.8127,  0.0878,  1.2420,\n",
       "          0.5959, -0.8787, -0.9985,  0.8298],\n",
       "        [-1.6144, -2.0590, -0.5502,  0.4280, -0.1891, -0.6677, -0.7733,  0.2619,\n",
       "         -0.2798, -0.4935, -0.7826,  0.6454]], grad_fn=<EmbeddingBackward0>)"
      ]
     },
     "execution_count": 79,
     "metadata": {},
     "output_type": "execute_result"
    }
   ],
   "source": [
    "embeddingz[0]"
   ]
  },
  {
   "cell_type": "code",
   "execution_count": 69,
   "id": "312ebcf2",
   "metadata": {},
   "outputs": [
    {
     "data": {
      "text/plain": [
       "tensor([[-0.8842,  0.4095, -1.7777, -0.5547,  0.7673,  0.4970,  0.7815, -1.6710,\n",
       "         -0.8847, -1.0718, -1.2784, -0.6365],\n",
       "        [ 0.2373,  2.0062, -0.4167, -0.0481, -1.4746,  0.5792,  0.5248,  0.9623,\n",
       "         -0.1098, -0.3934,  0.5705, -0.4521],\n",
       "        [-0.5061, -0.9158,  0.4540,  1.0269,  0.0541, -0.4134,  0.4338,  1.4991,\n",
       "          0.6874,  0.6366, -0.9080, -0.0151],\n",
       "        [ 1.0025,  0.4042,  1.3261, -0.8884,  1.7193,  1.0874, -0.0287, -2.3839,\n",
       "          0.7434,  0.8782,  1.6157,  0.0130],\n",
       "        [-0.0099,  2.1081, -0.3449,  0.0157, -0.6134, -0.4468, -0.2081, -0.9935,\n",
       "         -1.4102,  1.2612, -0.5315,  1.0272],\n",
       "        [-0.2610,  0.7103, -0.1165, -0.9161,  0.1401,  0.1498, -0.3128,  1.0863,\n",
       "         -0.9149, -0.5330,  0.5284, -0.2634],\n",
       "        [ 1.3674, -0.0281,  0.9046,  0.8881,  1.2738,  0.7387, -1.5877, -0.3243,\n",
       "          0.1516,  0.8448,  0.4885,  1.5968],\n",
       "        [ 0.2100,  0.4958,  0.4505, -0.8544, -1.1846,  1.2074, -0.7880,  1.2714,\n",
       "          0.9608,  0.1988, -1.1451, -0.1656],\n",
       "        [-0.9324,  0.0113, -0.5859, -0.6714, -0.8658,  0.9627,  0.0420,  0.1177,\n",
       "         -0.1996, -0.4564, -1.1964,  0.2188],\n",
       "        [ 1.3399,  0.4069, -1.7646,  2.1554,  1.6090, -0.7033,  0.5190, -0.5962,\n",
       "          0.8195, -0.3351, -0.8795, -0.6592],\n",
       "        [-0.3040, -0.9612, -0.0583,  0.2007,  1.3684,  0.0687,  1.1222, -0.2266,\n",
       "         -0.9781, -0.8711,  0.9476, -1.2340],\n",
       "        [ 0.1864, -0.3286, -1.5142,  0.9716, -2.0130,  1.6936,  0.2642,  0.0587,\n",
       "         -1.8423,  0.9034,  0.5953, -0.2455],\n",
       "        [-1.4193, -0.0526, -0.5564,  1.1998,  0.4302, -0.6346, -0.8406, -0.6564,\n",
       "          2.0184, -0.1924, -0.1420, -0.2458],\n",
       "        [-0.2306,  0.0237,  0.2034,  0.9693, -0.2023,  0.8865,  0.4427,  0.8205,\n",
       "         -1.3698,  0.3832, -0.3549,  0.9641],\n",
       "        [-0.0125,  0.1882,  0.4061, -0.2858,  0.2839, -1.1219, -0.2717,  0.1660,\n",
       "          0.8990,  0.2663,  1.0952,  1.3580],\n",
       "        [-0.0092,  0.1609,  1.3447,  1.3428, -2.3421, -2.3759,  0.0977, -0.7230,\n",
       "          0.5628, -1.0605, -0.3526,  0.4187],\n",
       "        [ 0.6275, -3.0880,  0.8488,  0.4060, -0.8419,  1.1240, -0.9771, -0.5532,\n",
       "         -0.2506,  0.2629, -0.2111, -1.1367],\n",
       "        [-1.1580,  0.4702,  0.0442, -0.5217, -1.0773, -0.8127,  0.0878,  1.2420,\n",
       "          0.5959, -0.8787, -0.9985,  0.8298],\n",
       "        [ 0.0899, -1.4698, -2.2186, -0.7944, -0.2386,  0.6894,  1.0578,  0.2947,\n",
       "         -1.6317,  1.0254,  0.0269, -1.9842],\n",
       "        [-0.6681,  0.2539, -0.3861,  1.9756,  1.9119,  0.9020,  0.3413,  0.3250,\n",
       "         -2.0739, -0.8522, -1.4631, -1.0469],\n",
       "        [ 1.9791, -0.0331, -0.2224, -1.1052, -0.1817, -1.4834,  0.0541, -0.9694,\n",
       "         -1.3878, -0.4244,  0.7740, -0.1804],\n",
       "        [-2.7601, -1.3072,  0.5359,  2.1121, -0.2549, -0.9053, -1.2151,  1.8283,\n",
       "         -0.7675, -0.6775,  0.3135, -1.2275],\n",
       "        [-1.6144, -2.0590, -0.5502,  0.4280, -0.1891, -0.6677, -0.7733,  0.2619,\n",
       "         -0.2798, -0.4935, -0.7826,  0.6454],\n",
       "        [-1.7549,  1.0352,  0.2166, -0.2899, -0.3909,  1.3210, -0.9880,  0.4795,\n",
       "          0.1326, -0.1983, -0.4307,  0.4099]])"
      ]
     },
     "execution_count": 69,
     "metadata": {},
     "output_type": "execute_result"
    }
   ],
   "source": [
    "selfembeds[0].weight.data"
   ]
  },
  {
   "cell_type": "code",
   "execution_count": 84,
   "id": "6602f746",
   "metadata": {},
   "outputs": [
    {
     "data": {
      "text/plain": [
       "ModuleList(\n",
       "  (0): Embedding(24, 12)\n",
       "  (1): Embedding(2, 1)\n",
       "  (2): Embedding(7, 4)\n",
       ")"
      ]
     },
     "execution_count": 84,
     "metadata": {},
     "output_type": "execute_result"
    }
   ],
   "source": [
    "#finally pass it to a dropout layer\n",
    "#we have defined \n",
    "selfembeds"
   ]
  },
  {
   "cell_type": "code",
   "execution_count": 86,
   "id": "80d1ef2b",
   "metadata": {},
   "outputs": [],
   "source": [
    "#and we passed it through\n",
    "embeddingz = []\n",
    "for i,e in enumerate(selfembeds):\n",
    "    embeddingz.append(e(cat_dummy[:,i]))"
   ]
  },
  {
   "cell_type": "code",
   "execution_count": 87,
   "id": "ea1e082f",
   "metadata": {},
   "outputs": [
    {
     "data": {
      "text/plain": [
       "[tensor([[-0.0099,  2.1081, -0.3449,  0.0157, -0.6134, -0.4468, -0.2081, -0.9935,\n",
       "          -1.4102,  1.2612, -0.5315,  1.0272],\n",
       "         [ 0.1864, -0.3286, -1.5142,  0.9716, -2.0130,  1.6936,  0.2642,  0.0587,\n",
       "          -1.8423,  0.9034,  0.5953, -0.2455],\n",
       "         [ 0.2100,  0.4958,  0.4505, -0.8544, -1.1846,  1.2074, -0.7880,  1.2714,\n",
       "           0.9608,  0.1988, -1.1451, -0.1656],\n",
       "         [-1.1580,  0.4702,  0.0442, -0.5217, -1.0773, -0.8127,  0.0878,  1.2420,\n",
       "           0.5959, -0.8787, -0.9985,  0.8298],\n",
       "         [-1.6144, -2.0590, -0.5502,  0.4280, -0.1891, -0.6677, -0.7733,  0.2619,\n",
       "          -0.2798, -0.4935, -0.7826,  0.6454]], grad_fn=<EmbeddingBackward0>),\n",
       " tensor([[ 0.4802],\n",
       "         [ 0.4802],\n",
       "         [ 0.4802],\n",
       "         [-1.4262],\n",
       "         [-1.4262]], grad_fn=<EmbeddingBackward0>),\n",
       " tensor([[ 1.4957, -0.1553,  0.1343, -0.9019],\n",
       "         [-0.6002,  1.2744, -0.6830,  0.6717],\n",
       "         [-0.6002,  1.2744, -0.6830,  0.6717],\n",
       "         [ 1.5997, -0.4464,  0.2442,  1.0775],\n",
       "         [-0.1639,  0.4013, -0.1351, -1.6054]], grad_fn=<EmbeddingBackward0>)]"
      ]
     },
     "execution_count": 87,
     "metadata": {},
     "output_type": "execute_result"
    }
   ],
   "source": [
    "embeddingz"
   ]
  },
  {
   "cell_type": "code",
   "execution_count": 97,
   "id": "53502491",
   "metadata": {},
   "outputs": [
    {
     "name": "stdout",
     "output_type": "stream",
     "text": [
      "torch.Size([5, 12])\n",
      "torch.Size([5, 1])\n",
      "torch.Size([5, 4])\n"
     ]
    }
   ],
   "source": [
    "print(embeddingz[0].shape)\n",
    "print(embeddingz[1].shape)\n",
    "print(embeddingz[2].shape)"
   ]
  },
  {
   "cell_type": "code",
   "execution_count": 99,
   "id": "b3b7aaaf",
   "metadata": {},
   "outputs": [],
   "source": [
    "z = torch.cat(embeddingz,1)#making them in one tensor"
   ]
  },
  {
   "cell_type": "code",
   "execution_count": 94,
   "id": "da73a746",
   "metadata": {},
   "outputs": [
    {
     "data": {
      "text/plain": [
       "torch.Size([5, 17])"
      ]
     },
     "execution_count": 94,
     "metadata": {},
     "output_type": "execute_result"
    }
   ],
   "source": [
    "z.shape"
   ]
  },
  {
   "cell_type": "code",
   "execution_count": 100,
   "id": "59674aa0",
   "metadata": {},
   "outputs": [],
   "source": [
    "drop_out = nn.Dropout(0.4)"
   ]
  },
  {
   "cell_type": "code",
   "execution_count": 101,
   "id": "a055b058",
   "metadata": {},
   "outputs": [
    {
     "data": {
      "text/plain": [
       "tensor([[-0.0000,  3.5135, -0.5749,  0.0000, -1.0223, -0.7447, -0.3469, -1.6558,\n",
       "         -2.3503,  0.0000, -0.8859,  1.7120,  0.0000,  2.4928, -0.0000,  0.0000,\n",
       "         -1.5032],\n",
       "        [ 0.0000, -0.0000, -2.5236,  0.0000, -3.3550,  2.8227,  0.0000,  0.0000,\n",
       "         -3.0705,  0.0000,  0.9922, -0.4091,  0.8003, -1.0003,  0.0000, -0.0000,\n",
       "          0.0000],\n",
       "        [ 0.0000,  0.0000,  0.0000, -1.4240, -0.0000,  2.0123, -1.3133,  2.1191,\n",
       "          0.0000,  0.0000, -0.0000, -0.0000,  0.8003, -1.0003,  2.1240, -0.0000,\n",
       "          1.1194],\n",
       "        [-1.9300,  0.7837,  0.0737, -0.8695, -1.7955, -1.3545,  0.1463,  2.0701,\n",
       "          0.9932, -1.4645, -0.0000,  1.3830, -2.3771,  2.6662, -0.0000,  0.4071,\n",
       "          0.0000],\n",
       "        [-0.0000, -3.4317, -0.0000,  0.7134, -0.3151, -1.1128, -1.2888,  0.4364,\n",
       "         -0.4664, -0.8226, -0.0000,  0.0000, -0.0000, -0.2732,  0.0000, -0.2252,\n",
       "         -0.0000]], grad_fn=<MulBackward0>)"
      ]
     },
     "execution_count": 101,
     "metadata": {},
     "output_type": "execute_result"
    }
   ],
   "source": [
    "drop_out(z)"
   ]
  },
  {
   "cell_type": "code",
   "execution_count": 178,
   "id": "c465571a",
   "metadata": {},
   "outputs": [],
   "source": [
    "class TabularModel(nn.Module):\n",
    "    def __init__(self,emb_szs, n_cont, out_sz, layers, p=0.5):\n",
    "        \n",
    "        '''\n",
    "        layers is the list passed by user \n",
    "            layers = [100,200,3] \n",
    "            this signifies number of neurons in each layer\n",
    "        100 in 1st layer, then 200\n",
    "        '''\n",
    "        super().__init__()\n",
    "        \n",
    "        self.embeds = nn.ModuleList([nn.Embedding(ni,nf) for ni,nf in emb_szs])\n",
    "        self.emb_drop = nn.Dropout(p)\n",
    "        self.bn_cont = nn.BatchNorm1d(n_cont)\n",
    "        \n",
    "        layerlist = []\n",
    "        \n",
    "        n_emb = sum([nf for ni,nf in emb_szs])\n",
    "        \n",
    "        n_in = n_emb+ n_cont\n",
    "        \n",
    "        #for loopmakes it flexible\n",
    "        for i in layers:\n",
    "            layerlist.append(nn.Linear(n_in,i))\n",
    "            layerlist.append(nn.ReLU(inplace=True))\n",
    "            layerlist.append(nn.BatchNorm1d(i))\n",
    "            layerlist.append(nn.Dropout(p))\n",
    "            n_in = i\n",
    "        \n",
    "        layerlist.append(nn.Linear(layers[-1],out_sz))\n",
    "        \n",
    "        self.layers = nn.Sequential(*layerlist)\n",
    "    def forward(self, x_cat, x_cont):\n",
    "        \n",
    "        embeddings = []\n",
    "        \n",
    "        for i,e in enumerate(self.embeds):\n",
    "            \n",
    "            embeddings.append(e(x_cat[:,i]))\n",
    "            \n",
    "        x = torch.cat(embeddings,1)\n",
    "        x = self.emb_drop(x)\n",
    "        \n",
    "        x_cont = self.bn_cont(x_cont)\n",
    "        full_data = torch.cat([x, x_cont],1)#combinig them\n",
    "        \n",
    "        full_data = self.layers(full_data)\n",
    "        \n",
    "        return full_data"
   ]
  },
  {
   "cell_type": "code",
   "execution_count": 179,
   "id": "f0addb23",
   "metadata": {},
   "outputs": [
    {
     "data": {
      "text/plain": [
       "<torch._C.Generator at 0x27d879486d0>"
      ]
     },
     "execution_count": 179,
     "metadata": {},
     "output_type": "execute_result"
    }
   ],
   "source": [
    "torch.manual_seed(33)"
   ]
  },
  {
   "cell_type": "code",
   "execution_count": 180,
   "id": "cb9ca73a",
   "metadata": {},
   "outputs": [
    {
     "data": {
      "text/plain": [
       "[(24, 12), (2, 1), (7, 4)]"
      ]
     },
     "execution_count": 180,
     "metadata": {},
     "output_type": "execute_result"
    }
   ],
   "source": [
    "emb_szs"
   ]
  },
  {
   "cell_type": "code",
   "execution_count": 181,
   "id": "06e12d96",
   "metadata": {},
   "outputs": [],
   "source": [
    "model = TabularModel(emb_szs,conts.shape[1],1,[200,100],p=0.4)"
   ]
  },
  {
   "cell_type": "code",
   "execution_count": 182,
   "id": "a088ddf3",
   "metadata": {},
   "outputs": [
    {
     "data": {
      "text/plain": [
       "TabularModel(\n",
       "  (embeds): ModuleList(\n",
       "    (0): Embedding(24, 12)\n",
       "    (1): Embedding(2, 1)\n",
       "    (2): Embedding(7, 4)\n",
       "  )\n",
       "  (emb_drop): Dropout(p=0.4, inplace=False)\n",
       "  (bn_cont): BatchNorm1d(6, eps=1e-05, momentum=0.1, affine=True, track_running_stats=True)\n",
       "  (layers): Sequential(\n",
       "    (0): Linear(in_features=23, out_features=200, bias=True)\n",
       "    (1): ReLU(inplace=True)\n",
       "    (2): BatchNorm1d(200, eps=1e-05, momentum=0.1, affine=True, track_running_stats=True)\n",
       "    (3): Dropout(p=0.4, inplace=False)\n",
       "    (4): Linear(in_features=200, out_features=100, bias=True)\n",
       "    (5): ReLU(inplace=True)\n",
       "    (6): BatchNorm1d(100, eps=1e-05, momentum=0.1, affine=True, track_running_stats=True)\n",
       "    (7): Dropout(p=0.4, inplace=False)\n",
       "    (8): Linear(in_features=100, out_features=1, bias=True)\n",
       "  )\n",
       ")"
      ]
     },
     "execution_count": 182,
     "metadata": {},
     "output_type": "execute_result"
    }
   ],
   "source": [
    "model"
   ]
  },
  {
   "cell_type": "code",
   "execution_count": 183,
   "id": "43a3fa8e",
   "metadata": {},
   "outputs": [],
   "source": [
    "criterion = nn.MSELoss()\n",
    "\n",
    "optimizer = torch.optim.Adam(model.parameters(),lr=0.001)"
   ]
  },
  {
   "cell_type": "code",
   "execution_count": 184,
   "id": "7501fe26",
   "metadata": {},
   "outputs": [],
   "source": [
    "batch_size = 60000\n",
    "\n",
    "test_size = int(batch_size *0.2)\n"
   ]
  },
  {
   "cell_type": "code",
   "execution_count": 185,
   "id": "75b04809",
   "metadata": {},
   "outputs": [],
   "source": [
    "#DATA Shuffled\n",
    "\n",
    "cat_train = cats[:batch_size-test_size]\n",
    "cat_test = cats[batch_size-test_size:batch_size]\n",
    "\n",
    "con_train = conts[:batch_size-test_size]\n",
    "con_test = conts[batch_size-test_size:batch_size]"
   ]
  },
  {
   "cell_type": "code",
   "execution_count": 186,
   "id": "bfa522c4",
   "metadata": {},
   "outputs": [],
   "source": [
    "y_train = y[:batch_size-test_size]\n",
    "y_test = y[batch_size-test_size:batch_size]"
   ]
  },
  {
   "cell_type": "code",
   "execution_count": 187,
   "id": "47f813a6",
   "metadata": {},
   "outputs": [
    {
     "data": {
      "text/plain": [
       "(48000, 48000)"
      ]
     },
     "execution_count": 187,
     "metadata": {},
     "output_type": "execute_result"
    }
   ],
   "source": [
    "len(cat_train), len(y_train)"
   ]
  },
  {
   "cell_type": "code",
   "execution_count": 188,
   "id": "476bef71",
   "metadata": {},
   "outputs": [],
   "source": [
    "from time import perf_counter"
   ]
  },
  {
   "cell_type": "code",
   "execution_count": 189,
   "id": "b20d9d22",
   "metadata": {},
   "outputs": [
    {
     "name": "stdout",
     "output_type": "stream",
     "text": [
      "epoch: 1 loss is 12.586843490600586\n",
      "epoch: 11 loss is 11.687362670898438\n",
      "epoch: 21 loss is 11.121127128601074\n",
      "epoch: 31 loss is 10.733322143554688\n",
      "epoch: 41 loss is 10.460418701171875\n",
      "epoch: 51 loss is 10.234882354736328\n",
      "epoch: 61 loss is 10.028034210205078\n",
      "epoch: 71 loss is 9.849187850952148\n",
      "epoch: 81 loss is 9.635196685791016\n",
      "epoch: 91 loss is 9.413382530212402\n",
      "epoch: 101 loss is 9.17296314239502\n",
      "epoch: 111 loss is 8.894386291503906\n",
      "epoch: 121 loss is 8.578813552856445\n",
      "epoch: 131 loss is 8.216830253601074\n",
      "epoch: 141 loss is 7.808000087738037\n",
      "epoch: 151 loss is 7.364787578582764\n",
      "epoch: 161 loss is 6.919034957885742\n",
      "epoch: 171 loss is 6.456644058227539\n",
      "epoch: 181 loss is 5.9670796394348145\n",
      "epoch: 191 loss is 5.461026191711426\n",
      "epoch: 201 loss is 5.017233848571777\n",
      "epoch: 211 loss is 4.630398273468018\n",
      "epoch: 221 loss is 4.340794563293457\n",
      "epoch: 231 loss is 4.098572254180908\n",
      "epoch: 241 loss is 3.907663345336914\n",
      "epoch: 251 loss is 3.8835651874542236\n",
      "epoch: 261 loss is 3.797342538833618\n",
      "epoch: 271 loss is 3.796961545944214\n",
      "epoch: 281 loss is 3.722036600112915\n",
      "epoch: 291 loss is 3.7168142795562744\n"
     ]
    }
   ],
   "source": [
    "t0 = perf_counter()\n",
    "\n",
    "epochs = 300\n",
    "\n",
    "losses= []\n",
    "\n",
    "for i in range(epochs):\n",
    "    i +=1\n",
    "    \n",
    "    y_pred = model(cat_train,con_train)\n",
    "    loss = torch.sqrt(criterion(y_pred, y_train))\n",
    "    losses.append(loss.detach().numpy())\n",
    "    \n",
    "    if i%10==1:\n",
    "        print(f'epoch: {i} loss is {loss}')\n",
    "    \n",
    "    optimizer.zero_grad()\n",
    "    loss.backward()\n",
    "    optimizer.step()\n",
    "\n",
    "duration = perf_counter() - t0"
   ]
  },
  {
   "cell_type": "code",
   "execution_count": 193,
   "id": "a300a368",
   "metadata": {},
   "outputs": [
    {
     "data": {
      "text/plain": [
       "2.0899686066666616"
      ]
     },
     "execution_count": 193,
     "metadata": {},
     "output_type": "execute_result"
    }
   ],
   "source": [
    "duration/60 "
   ]
  },
  {
   "cell_type": "code",
   "execution_count": 194,
   "id": "9b5d719e",
   "metadata": {},
   "outputs": [
    {
     "data": {
      "text/plain": [
       "[<matplotlib.lines.Line2D at 0x27d9e0cdf00>]"
      ]
     },
     "execution_count": 194,
     "metadata": {},
     "output_type": "execute_result"
    },
    {
     "data": {
      "image/png": "[encoded data removed]",
      "text/plain": [
       "<Figure size 432x288 with 1 Axes>"
      ]
     },
     "metadata": {
      "needs_background": "light"
     },
     "output_type": "display_data"
    }
   ],
   "source": [
    "plt.plot(range(epochs),losses)"
   ]
  },
  {
   "cell_type": "markdown",
   "id": "b60f2fa6",
   "metadata": {},
   "source": [
    "# validating"
   ]
  },
  {
   "cell_type": "code",
   "execution_count": 195,
   "id": "d1869a6a",
   "metadata": {},
   "outputs": [],
   "source": [
    "with torch.no_grad():\n",
    "    \n",
    "    y_val = model(cat_test, con_test)\n",
    "    loss = torch.sqrt(criterion(y_val, y_test))"
   ]
  },
  {
   "cell_type": "code",
   "execution_count": 196,
   "id": "f1de5f03",
   "metadata": {},
   "outputs": [
    {
     "data": {
      "text/plain": [
       "tensor(3.6358)"
      ]
     },
     "execution_count": 196,
     "metadata": {},
     "output_type": "execute_result"
    }
   ],
   "source": [
    "loss"
   ]
  },
  {
   "cell_type": "code",
   "execution_count": 200,
   "id": "43ef556b",
   "metadata": {},
   "outputs": [
    {
     "name": "stdout",
     "output_type": "stream",
     "text": [
      "0--prediction:  5.5017 TRUE     2.90\n",
      "1--prediction: 13.4227 TRUE     5.70\n",
      "2--prediction:  7.9796 TRUE     7.70\n",
      "3--prediction: 14.4467 TRUE    12.50\n",
      "4--prediction:  6.9225 TRUE     4.10\n",
      "5--prediction:  6.0692 TRUE     5.30\n",
      "6--prediction:  1.9292 TRUE     3.70\n",
      "7--prediction: 18.7254 TRUE    14.50\n",
      "8--prediction:  5.1816 TRUE     5.70\n",
      "9--prediction: 13.8200 TRUE    10.10\n"
     ]
    }
   ],
   "source": [
    "for i in range(10):\n",
    "    print(f'{i}--prediction:{y_val[i].item():8.4f} TRUE {y_test[i].item():8.2f}')"
   ]
  },
  {
   "cell_type": "markdown",
   "id": "5d497f8b",
   "metadata": {},
   "source": [
    "## Saving a model"
   ]
  },
  {
   "cell_type": "code",
   "execution_count": 201,
   "id": "bd2ee1b7",
   "metadata": {},
   "outputs": [],
   "source": [
    "torch.save(model.state_dict(),'TaxiModel.pt')"
   ]
  },
  {
   "cell_type": "code",
   "execution_count": null,
   "id": "fb02b700",
   "metadata": {},
   "outputs": [],
   "source": []
  },
  {
   "cell_type": "code",
   "execution_count": null,
   "id": "8cf965be",
   "metadata": {},
   "outputs": [],
   "source": []
  },
  {
   "cell_type": "code",
   "execution_count": null,
   "id": "079dd44a",
   "metadata": {},
   "outputs": [],
   "source": []
  },
  {
   "cell_type": "code",
   "execution_count": null,
   "id": "5711a58d",
   "metadata": {},
   "outputs": [],
   "source": []
  },
  {
   "cell_type": "code",
   "execution_count": null,
   "id": "0bc4120b",
   "metadata": {},
   "outputs": [],
   "source": []
  },
  {
   "cell_type": "code",
   "execution_count": null,
   "id": "e3e0438b",
   "metadata": {},
   "outputs": [],
   "source": []
  },
  {
   "cell_type": "code",
   "execution_count": null,
   "id": "95a98e11",
   "metadata": {},
   "outputs": [],
   "source": []
  },
  {
   "cell_type": "code",
   "execution_count": null,
   "id": "20c6f65b",
   "metadata": {},
   "outputs": [],
   "source": []
  },
  {
   "cell_type": "code",
   "execution_count": null,
   "id": "79a3c4b4",
   "metadata": {},
   "outputs": [],
   "source": []
  }
 ],
 "metadata": {
  "kernelspec": {
   "display_name": "Python 3 (ipykernel)",
   "language": "python",
   "name": "python3"
  },
  "language_info": {
   "codemirror_mode": {
    "name": "ipython",
    "version": 3
   },
   "file_extension": ".py",
   "mimetype": "text/x-python",
   "name": "python",
   "nbconvert_exporter": "python",
   "pygments_lexer": "ipython3",
   "version": "3.10.4"
  }
 },
 "nbformat": 4,
 "nbformat_minor": 5
}
