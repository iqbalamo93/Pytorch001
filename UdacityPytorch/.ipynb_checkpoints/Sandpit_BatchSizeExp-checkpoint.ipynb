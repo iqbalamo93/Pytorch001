{
 "cells": [
  {
   "cell_type": "code",
   "execution_count": 1,
   "id": "19ddc3f6",
   "metadata": {},
   "outputs": [],
   "source": [
    "import urllib\n",
    "opener = urllib.request.build_opener()\n",
    "opener.addheaders = [('User-agent', 'Mozilla/5.0')]\n",
    "urllib.request.install_opener(opener)"
   ]
  },
  {
   "cell_type": "code",
   "execution_count": 3,
   "id": "272a9e71",
   "metadata": {},
   "outputs": [],
   "source": [
    "### Run this cell\n",
    "import torch\n",
    "from torchvision import datasets, transforms\n",
    "\n",
    "# Define a transform to normalize the data\n",
    "transform = transforms.Compose([transforms.ToTensor(),\n",
    "                              transforms.Normalize((0.5,), (0.5,)),\n",
    "                              ])\n",
    "\n",
    "# Download and load the training data\n",
    "trainset = datasets.MNIST('~/.pytorch/MNIST_data/', download=True, train=True, transform=transform)\n",
    "trainloader = torch.utils.data.DataLoader(trainset, batch_size=64, shuffle=True)\n"
   ]
  },
  {
   "cell_type": "code",
   "execution_count": 10,
   "id": "db10d18c",
   "metadata": {},
   "outputs": [
    {
     "name": "stdout",
     "output_type": "stream",
     "text": [
      "<class 'torch.Tensor'>\n",
      "torch.Size([64, 1, 28, 28])\n",
      "torch.Size([64])\n"
     ]
    }
   ],
   "source": [
    "dataiter = iter(trainloader)\n",
    "images, labels = dataiter.next()\n",
    "\n",
    "print(type(images))\n",
    "print(images.shape)\n",
    "print(labels.shape)"
   ]
  },
  {
   "cell_type": "code",
   "execution_count": 27,
   "id": "a6b5c613",
   "metadata": {},
   "outputs": [],
   "source": [
    "from torch import nn\n",
    "import torch.nn.functional as F"
   ]
  },
  {
   "cell_type": "code",
   "execution_count": null,
   "id": "0233e752",
   "metadata": {},
   "outputs": [],
   "source": []
  },
  {
   "cell_type": "code",
   "execution_count": 74,
   "id": "4460005b",
   "metadata": {},
   "outputs": [],
   "source": [
    "class Model(nn.Module):\n",
    "    \n",
    "    def __init__(self):\n",
    "        \n",
    "        super().__init__()\n",
    "        self.fc1 = nn.Linear(784,128)\n",
    "        self.fc2 = nn.Linear(128,64)\n",
    "        self.fc3 = nn.Linear(64,10)\n",
    "    \n",
    "    def forward(self,x):\n",
    "        \n",
    "        x = F.relu(self.fc1(x))\n",
    "        x = F.relu(self.fc2(x))\n",
    "        x = self.fc3(x)\n",
    "        x = F.log_softmax(x,dim=1)\n",
    "        return x"
   ]
  },
  {
   "cell_type": "code",
   "execution_count": 75,
   "id": "a3abb2f5",
   "metadata": {},
   "outputs": [
    {
     "data": {
      "text/plain": [
       "torch.Size([64, 1, 28, 28])"
      ]
     },
     "execution_count": 75,
     "metadata": {},
     "output_type": "execute_result"
    }
   ],
   "source": [
    "images.shape"
   ]
  },
  {
   "cell_type": "code",
   "execution_count": 76,
   "id": "9ba64327",
   "metadata": {},
   "outputs": [],
   "source": [
    "images_ = images.view(images.shape[0],-1)"
   ]
  },
  {
   "cell_type": "code",
   "execution_count": 77,
   "id": "ae821f59",
   "metadata": {},
   "outputs": [
    {
     "data": {
      "text/plain": [
       "torch.Size([64, 784])"
      ]
     },
     "execution_count": 77,
     "metadata": {},
     "output_type": "execute_result"
    }
   ],
   "source": [
    "images_.shape"
   ]
  },
  {
   "cell_type": "markdown",
   "id": "73e0dc85",
   "metadata": {},
   "source": [
    "## Passing full batch"
   ]
  },
  {
   "cell_type": "code",
   "execution_count": 78,
   "id": "b246da32",
   "metadata": {},
   "outputs": [],
   "source": [
    "model = Model()"
   ]
  },
  {
   "cell_type": "code",
   "execution_count": 79,
   "id": "0b9ab169",
   "metadata": {},
   "outputs": [],
   "source": [
    "criterion = nn.NLLLoss()"
   ]
  },
  {
   "cell_type": "code",
   "execution_count": 80,
   "id": "e83f102f",
   "metadata": {},
   "outputs": [],
   "source": [
    "from torch import optim"
   ]
  },
  {
   "cell_type": "code",
   "execution_count": 81,
   "id": "977b5b87",
   "metadata": {},
   "outputs": [],
   "source": [
    "optimizer = optim.SGD(model.parameters(), lr=0.01)"
   ]
  },
  {
   "cell_type": "code",
   "execution_count": 82,
   "id": "161d08bf",
   "metadata": {},
   "outputs": [
    {
     "name": "stdout",
     "output_type": "stream",
     "text": [
      "Epoch 0 and loss is 2.31729865\n",
      "Epoch 10 and loss is 2.27654052\n",
      "Epoch 20 and loss is 2.24699807\n",
      "Epoch 30 and loss is 2.21980715\n",
      "Epoch 40 and loss is 2.19451737\n",
      "Epoch 50 and loss is 2.16862321\n",
      "Epoch 60 and loss is 2.14025450\n",
      "Epoch 70 and loss is 2.10932374\n",
      "Epoch 80 and loss is 2.07574677\n",
      "Epoch 90 and loss is 2.03911352\n",
      "Epoch 100 and loss is 1.99864542\n",
      "Epoch 110 and loss is 1.95471799\n",
      "Epoch 120 and loss is 1.90569639\n",
      "Epoch 130 and loss is 1.85194719\n",
      "Epoch 140 and loss is 1.79311764\n",
      "Epoch 150 and loss is 1.72998452\n",
      "Epoch 160 and loss is 1.66297436\n",
      "Epoch 170 and loss is 1.59214842\n",
      "Epoch 180 and loss is 1.51821446\n",
      "Epoch 190 and loss is 1.44155467\n",
      "Epoch 200 and loss is 1.36348641\n",
      "Epoch 210 and loss is 1.28449225\n",
      "Epoch 220 and loss is 1.20608473\n",
      "Epoch 230 and loss is 1.12996495\n",
      "Epoch 240 and loss is 1.05640447\n",
      "Epoch 250 and loss is 0.98574477\n",
      "Epoch 260 and loss is 0.91827369\n",
      "Epoch 270 and loss is 0.85430282\n",
      "Epoch 280 and loss is 0.79451877\n",
      "Epoch 290 and loss is 0.73831379\n",
      "Epoch 300 and loss is 0.68595052\n",
      "Epoch 310 and loss is 0.63762176\n",
      "Epoch 320 and loss is 0.59268516\n",
      "Epoch 330 and loss is 0.55112123\n",
      "Epoch 340 and loss is 0.51301122\n",
      "Epoch 350 and loss is 0.47766492\n",
      "Epoch 360 and loss is 0.44498602\n",
      "Epoch 370 and loss is 0.41488886\n",
      "Epoch 380 and loss is 0.38710821\n",
      "Epoch 390 and loss is 0.36146429\n"
     ]
    }
   ],
   "source": [
    "epochs = 400\n",
    "losses = []\n",
    "\n",
    "for epoch in range(epochs):\n",
    "    output = model(images_)\n",
    "    loss = criterion(output, labels)\n",
    "    \n",
    "    losses.append(loss.detach().numpy())\n",
    "    if epoch%10==0:\n",
    "        print(f'Epoch {epoch} and loss is {loss:.8f}')\n",
    "    optimizer.zero_grad()\n",
    "    loss.backward()\n",
    "    optimizer.step()"
   ]
  },
  {
   "cell_type": "code",
   "execution_count": 83,
   "id": "4a1eeb89",
   "metadata": {},
   "outputs": [
    {
     "data": {
      "text/plain": [
       "Model(\n",
       "  (fc1): Linear(in_features=784, out_features=128, bias=True)\n",
       "  (fc2): Linear(in_features=128, out_features=64, bias=True)\n",
       "  (fc3): Linear(in_features=64, out_features=10, bias=True)\n",
       ")"
      ]
     },
     "execution_count": 83,
     "metadata": {},
     "output_type": "execute_result"
    }
   ],
   "source": [
    "model"
   ]
  },
  {
   "cell_type": "code",
   "execution_count": 85,
   "id": "316adbf6",
   "metadata": {},
   "outputs": [
    {
     "data": {
      "text/plain": [
       "Parameter containing:\n",
       "tensor([[ 0.0074, -0.0189, -0.0347,  ...,  0.0338,  0.0054,  0.0105],\n",
       "        [ 0.0181, -0.0335,  0.0202,  ..., -0.0144,  0.0083, -0.0073],\n",
       "        [-0.0032, -0.0295, -0.0303,  ..., -0.0257, -0.0044,  0.0030],\n",
       "        ...,\n",
       "        [ 0.0019, -0.0116,  0.0071,  ...,  0.0326, -0.0353,  0.0155],\n",
       "        [ 0.0129, -0.0233,  0.0191,  ..., -0.0111,  0.0096,  0.0021],\n",
       "        [-0.0381, -0.0369, -0.0088,  ..., -0.0238, -0.0281,  0.0077]],\n",
       "       requires_grad=True)"
      ]
     },
     "execution_count": 85,
     "metadata": {},
     "output_type": "execute_result"
    }
   ],
   "source": [
    "with torch."
   ]
  },
  {
   "cell_type": "code",
   "execution_count": 90,
   "id": "d1a3e642",
   "metadata": {},
   "outputs": [],
   "source": [
    "import matplotlib.pyplot as plt"
   ]
  },
  {
   "cell_type": "code",
   "execution_count": 91,
   "id": "f73af46c",
   "metadata": {},
   "outputs": [
    {
     "data": {
      "text/plain": [
       "<matplotlib.image.AxesImage at 0x19c05da98d0>"
      ]
     },
     "execution_count": 91,
     "metadata": {},
     "output_type": "execute_result"
    },
    {
     "data": {
      "image/png": "[encoded data removed]",
      "text/plain": [
       "<Figure size 432x288 with 1 Axes>"
      ]
     },
     "metadata": {
      "needs_background": "light"
     },
     "output_type": "display_data"
    }
   ],
   "source": [
    "plt.imshow(images[0].reshape(28,28),cmap='Greys_r')"
   ]
  },
  {
   "cell_type": "code",
   "execution_count": 96,
   "id": "afdcfef6",
   "metadata": {},
   "outputs": [],
   "source": [
    "with torch.no_grad():\n",
    "    ps = model(images_[0].reshape(-1,784))"
   ]
  },
  {
   "cell_type": "code",
   "execution_count": 97,
   "id": "b710ba05",
   "metadata": {},
   "outputs": [
    {
     "data": {
      "text/plain": [
       "tensor(7)"
      ]
     },
     "execution_count": 97,
     "metadata": {},
     "output_type": "execute_result"
    }
   ],
   "source": [
    "ps.argmax()"
   ]
  },
  {
   "cell_type": "markdown",
   "id": "6cc9e941",
   "metadata": {},
   "source": [
    "## Passing batch of size 2"
   ]
  },
  {
   "cell_type": "code",
   "execution_count": 103,
   "id": "b3eddc03",
   "metadata": {},
   "outputs": [],
   "source": [
    "with torch.no_grad():\n",
    "    ps = model(images_[:2].reshape(-1,784))"
   ]
  },
  {
   "cell_type": "code",
   "execution_count": 104,
   "id": "68f5b0ca",
   "metadata": {},
   "outputs": [
    {
     "data": {
      "text/plain": [
       "torch.Size([2, 784])"
      ]
     },
     "execution_count": 104,
     "metadata": {},
     "output_type": "execute_result"
    }
   ],
   "source": [
    "images_[:2].shape"
   ]
  },
  {
   "cell_type": "code",
   "execution_count": 105,
   "id": "a61a9345",
   "metadata": {},
   "outputs": [
    {
     "data": {
      "text/plain": [
       "torch.Size([2, 10])"
      ]
     },
     "execution_count": 105,
     "metadata": {},
     "output_type": "execute_result"
    }
   ],
   "source": [
    "ps.shape"
   ]
  },
  {
   "cell_type": "code",
   "execution_count": 107,
   "id": "bca6d14a",
   "metadata": {},
   "outputs": [
    {
     "data": {
      "text/plain": [
       "tensor([7, 1])"
      ]
     },
     "execution_count": 107,
     "metadata": {},
     "output_type": "execute_result"
    }
   ],
   "source": [
    "ps.argmax(dim=1)"
   ]
  },
  {
   "cell_type": "code",
   "execution_count": 108,
   "id": "e0a68c4b",
   "metadata": {},
   "outputs": [
    {
     "data": {
      "text/plain": [
       "<matplotlib.image.AxesImage at 0x19c05edd270>"
      ]
     },
     "execution_count": 108,
     "metadata": {},
     "output_type": "execute_result"
    },
    {
     "data": {
      "image/png": "[encoded data removed]",
      "text/plain": [
       "<Figure size 432x288 with 1 Axes>"
      ]
     },
     "metadata": {
      "needs_background": "light"
     },
     "output_type": "display_data"
    }
   ],
   "source": [
    "plt.imshow(images[1].reshape(28,28),cmap='Greys_r')"
   ]
  },
  {
   "cell_type": "code",
   "execution_count": null,
   "id": "6ab725ab",
   "metadata": {},
   "outputs": [],
   "source": []
  },
  {
   "cell_type": "code",
   "execution_count": null,
   "id": "b1433926",
   "metadata": {},
   "outputs": [],
   "source": []
  },
  {
   "cell_type": "code",
   "execution_count": null,
   "id": "6826cd42",
   "metadata": {},
   "outputs": [],
   "source": []
  }
 ],
 "metadata": {
  "kernelspec": {
   "display_name": "Python 3 (ipykernel)",
   "language": "python",
   "name": "python3"
  },
  "language_info": {
   "codemirror_mode": {
    "name": "ipython",
    "version": 3
   },
   "file_extension": ".py",
   "mimetype": "text/x-python",
   "name": "python",
   "nbconvert_exporter": "python",
   "pygments_lexer": "ipython3",
   "version": "3.10.4"
  }
 },
 "nbformat": 4,
 "nbformat_minor": 5
}
