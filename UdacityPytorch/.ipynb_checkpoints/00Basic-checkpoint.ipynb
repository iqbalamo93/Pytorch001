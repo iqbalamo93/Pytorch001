{
 "cells": [
  {
   "cell_type": "code",
   "execution_count": 1,
   "id": "a6df768d",
   "metadata": {},
   "outputs": [],
   "source": [
    "import torch"
   ]
  },
  {
   "cell_type": "code",
   "execution_count": 2,
   "id": "de3076e0",
   "metadata": {},
   "outputs": [],
   "source": [
    " def activation(x):\n",
    "        return 1/(1+torch.exp(-x))"
   ]
  },
  {
   "cell_type": "code",
   "execution_count": 3,
   "id": "07f55193",
   "metadata": {},
   "outputs": [
    {
     "data": {
      "text/plain": [
       "<torch._C.Generator at 0x1e14db70c70>"
      ]
     },
     "execution_count": 3,
     "metadata": {},
     "output_type": "execute_result"
    }
   ],
   "source": [
    "torch.manual_seed(7)"
   ]
  },
  {
   "cell_type": "code",
   "execution_count": 4,
   "id": "a4afa25f",
   "metadata": {},
   "outputs": [],
   "source": [
    "features = torch.randn((1,5))"
   ]
  },
  {
   "cell_type": "code",
   "execution_count": 5,
   "id": "30701618",
   "metadata": {},
   "outputs": [
    {
     "data": {
      "text/plain": [
       "tensor([[-0.1468,  0.7861,  0.9468, -1.1143,  1.6908]])"
      ]
     },
     "execution_count": 5,
     "metadata": {},
     "output_type": "execute_result"
    }
   ],
   "source": [
    "features"
   ]
  },
  {
   "cell_type": "code",
   "execution_count": 8,
   "id": "138cf5c5",
   "metadata": {},
   "outputs": [],
   "source": [
    "weights = torch.rand_like(features)"
   ]
  },
  {
   "cell_type": "code",
   "execution_count": 9,
   "id": "05910ff9",
   "metadata": {},
   "outputs": [
    {
     "data": {
      "text/plain": [
       "tensor([[0.2868, 0.2063, 0.4451, 0.3593, 0.7204]])"
      ]
     },
     "execution_count": 9,
     "metadata": {},
     "output_type": "execute_result"
    }
   ],
   "source": [
    "weights"
   ]
  },
  {
   "cell_type": "code",
   "execution_count": 10,
   "id": "b68dfb0d",
   "metadata": {},
   "outputs": [],
   "source": [
    "bias = torch.randn((1,1))"
   ]
  },
  {
   "cell_type": "code",
   "execution_count": 18,
   "id": "0821df7d",
   "metadata": {},
   "outputs": [],
   "source": [
    "y = activation(torch.sum(features*weights)+bias)"
   ]
  },
  {
   "cell_type": "code",
   "execution_count": 19,
   "id": "a334002d",
   "metadata": {},
   "outputs": [
    {
     "data": {
      "text/plain": [
       "tensor([[0.6140]])"
      ]
     },
     "execution_count": 19,
     "metadata": {},
     "output_type": "execute_result"
    }
   ],
   "source": [
    "y"
   ]
  },
  {
   "cell_type": "markdown",
   "id": "4b2678b8",
   "metadata": {},
   "source": [
    "## Using matrix multiplication\n",
    "* <mark>torch.mm</mark> - Much strict\n",
    "* <mark>torch.matmul</mark> - Supports broadcasting"
   ]
  },
  {
   "cell_type": "code",
   "execution_count": 20,
   "id": "1ee8f63e",
   "metadata": {},
   "outputs": [
    {
     "ename": "RuntimeError",
     "evalue": "mat1 and mat2 shapes cannot be multiplied (1x5 and 1x5)",
     "output_type": "error",
     "traceback": [
      "\u001b[1;31m---------------------------------------------------------------------------\u001b[0m",
      "\u001b[1;31mRuntimeError\u001b[0m                              Traceback (most recent call last)",
      "Input \u001b[1;32mIn [20]\u001b[0m, in \u001b[0;36m<cell line: 1>\u001b[1;34m()\u001b[0m\n\u001b[1;32m----> 1\u001b[0m \u001b[43mtorch\u001b[49m\u001b[38;5;241;43m.\u001b[39;49m\u001b[43mmm\u001b[49m\u001b[43m(\u001b[49m\u001b[43mfeatures\u001b[49m\u001b[43m,\u001b[49m\u001b[43mweights\u001b[49m\u001b[43m)\u001b[49m\n",
      "\u001b[1;31mRuntimeError\u001b[0m: mat1 and mat2 shapes cannot be multiplied (1x5 and 1x5)"
     ]
    }
   ],
   "source": [
    "torch.mm(features,weights)"
   ]
  },
  {
   "cell_type": "code",
   "execution_count": 23,
   "id": "183a03ca",
   "metadata": {},
   "outputs": [
    {
     "data": {
      "text/plain": [
       "tensor([[-0.0421, -0.0303, -0.0653, -0.0527, -0.1057],\n",
       "        [ 0.2255,  0.1622,  0.3499,  0.2824,  0.5663],\n",
       "        [ 0.2716,  0.1953,  0.4214,  0.3402,  0.6821],\n",
       "        [-0.3196, -0.2299, -0.4960, -0.4004, -0.8028],\n",
       "        [ 0.4850,  0.3488,  0.7526,  0.6075,  1.2180]])"
      ]
     },
     "execution_count": 23,
     "metadata": {},
     "output_type": "execute_result"
    }
   ],
   "source": [
    "torch.mm(features.T, weights)"
   ]
  },
  {
   "cell_type": "code",
   "execution_count": 24,
   "id": "5a4f04ab",
   "metadata": {},
   "outputs": [
    {
     "data": {
      "text/plain": [
       "tensor([[1.3592]])"
      ]
     },
     "execution_count": 24,
     "metadata": {},
     "output_type": "execute_result"
    }
   ],
   "source": [
    "torch.mm(features, weights.T)"
   ]
  },
  {
   "cell_type": "markdown",
   "id": "8ca24cfe",
   "metadata": {},
   "source": [
    "## methods to reshape\n",
    "* <mark> .reshape() </mark>\\\n",
    "Will return a new tensor with same data with size passed.\n",
    "* <mark> .resize() </mark>\\\n",
    "Returns same tensor\n",
    "* <mark> .view() </mark>\n",
    "Returns a new Tensor, no messing with data"
   ]
  },
  {
   "cell_type": "code",
   "execution_count": 25,
   "id": "d477afd8",
   "metadata": {},
   "outputs": [
    {
     "data": {
      "text/plain": [
       "tensor([[-0.0421, -0.0303, -0.0653, -0.0527, -0.1057],\n",
       "        [ 0.2255,  0.1622,  0.3499,  0.2824,  0.5663],\n",
       "        [ 0.2716,  0.1953,  0.4214,  0.3402,  0.6821],\n",
       "        [-0.3196, -0.2299, -0.4960, -0.4004, -0.8028],\n",
       "        [ 0.4850,  0.3488,  0.7526,  0.6075,  1.2180]])"
      ]
     },
     "execution_count": 25,
     "metadata": {},
     "output_type": "execute_result"
    }
   ],
   "source": [
    "torch.mm(features.reshape(5,1), weights)"
   ]
  },
  {
   "cell_type": "code",
   "execution_count": 29,
   "id": "8460ca0d",
   "metadata": {},
   "outputs": [
    {
     "data": {
      "text/plain": [
       "tensor([[-0.0421, -0.0303, -0.0653, -0.0527, -0.1057],\n",
       "        [ 0.2255,  0.1622,  0.3499,  0.2824,  0.5663],\n",
       "        [ 0.2716,  0.1953,  0.4214,  0.3402,  0.6821],\n",
       "        [-0.3196, -0.2299, -0.4960, -0.4004, -0.8028],\n",
       "        [ 0.4850,  0.3488,  0.7526,  0.6075,  1.2180]])"
      ]
     },
     "execution_count": 29,
     "metadata": {},
     "output_type": "execute_result"
    }
   ],
   "source": [
    "torch.mm(features.view(5,1), weights)"
   ]
  },
  {
   "cell_type": "markdown",
   "id": "07650173",
   "metadata": {},
   "source": [
    "On our example"
   ]
  },
  {
   "cell_type": "code",
   "execution_count": 32,
   "id": "3e2a8325",
   "metadata": {},
   "outputs": [
    {
     "data": {
      "text/plain": [
       "tensor([[0.6140]])"
      ]
     },
     "execution_count": 32,
     "metadata": {},
     "output_type": "execute_result"
    }
   ],
   "source": [
    "activation(torch.mm(features, weights.view(5,1)).sum()+bias)"
   ]
  },
  {
   "attachments": {
    "image.png": {
     "image/png": "[encoded data removed]"
    }
   },
   "cell_type": "markdown",
   "id": "637c42c5",
   "metadata": {},
   "source": [
    "### Stack them up!\n",
    "\n",
    "That's how you can calculate the output for a single neuron. The real power of this algorithm happens when you start stacking these individual units into layers and stacks of layers, into a network of neurons. The output of one layer of neurons becomes the input for the next layer. With multiple input units and output units, we now need to express the weights as a matrix.\n",
    "\n",
    "![image.png](attachment:image.png)\n",
    "The first layer shown on the bottom here are the inputs, understandably called the **input layer**. The middle layer is called the **hidden layer**, and the final layer (on the right) is the **output layer**. We can express this network mathematically with matrices again and use matrix multiplication to get linear combinations for each unit in one operation. For example, the hidden layer ($h_1$ and $h_2$ here) can be calculated \n",
    "\n",
    "$$\n",
    "\\vec{h} = [h_1 \\, h_2] = \n",
    "\\begin{bmatrix}\n",
    "x_1 \\, x_2 \\cdots \\, x_n\n",
    "\\end{bmatrix}\n",
    "\\cdot \n",
    "\\begin{bmatrix}\n",
    "           w_{11} & w_{12} \\\\\n",
    "           w_{21} &w_{22} \\\\\n",
    "           \\vdots &\\vdots \\\\\n",
    "           w_{n1} &w_{n2}\n",
    "\\end{bmatrix}\n",
    "$$\n",
    "\n",
    "The output for this small network is found by treating the hidden layer as inputs for the output unit. The network output is expressed simply\n",
    "\n",
    "$$\n",
    "y =  f_2 \\! \\left(\\, f_1 \\! \\left(\\vec{x} \\, \\mathbf{W_1}\\right) \\mathbf{W_2} \\right)\n",
    "$$\n",
    "\n",
    "> **Exercise:** Calculate the output for this multi-layer network using the weights `W1` & `W2`, and the biases, `B1` & `B2`. "
   ]
  },
  {
   "cell_type": "code",
   "execution_count": 33,
   "id": "2106709d",
   "metadata": {},
   "outputs": [],
   "source": [
    "### Generate some data\n",
    "torch.manual_seed(7) # Set the random seed so things are predictable\n",
    "\n",
    "# Features are 3 random normal variables\n",
    "features = torch.randn((1, 3))#input as a row vector\n",
    "\n",
    "# Define the size of each layer in our network\n",
    "n_input = features.shape[1]     # Number of input units, must match number of input features\n",
    "n_hidden = 2                    # Number of hidden units \n",
    "n_output = 1                    # Number of output units\n",
    "\n",
    "# Weights for inputs to hidden layer\n",
    "W1 = torch.randn(n_input, n_hidden)\n",
    "# Weights for hidden layer to output layer\n",
    "W2 = torch.randn(n_hidden, n_output)\n",
    "\n",
    "# and bias terms for hidden and output layers\n",
    "B1 = torch.randn((1, n_hidden))\n",
    "B2 = torch.randn((1, n_output))"
   ]
  },
  {
   "cell_type": "code",
   "execution_count": 39,
   "id": "93304ba3",
   "metadata": {},
   "outputs": [
    {
     "name": "stdout",
     "output_type": "stream",
     "text": [
      "tensor([[-1.1143,  1.6908],\n",
      "        [-0.8948, -0.3556],\n",
      "        [ 1.2324,  0.1382]])\n",
      "torch.Size([3, 2])\n"
     ]
    }
   ],
   "source": [
    "print(W1)\n",
    "print(W1.shape)"
   ]
  },
  {
   "cell_type": "code",
   "execution_count": 40,
   "id": "eeb385a3",
   "metadata": {},
   "outputs": [
    {
     "name": "stdout",
     "output_type": "stream",
     "text": [
      "tensor([[-1.6822],\n",
      "        [ 0.3177]])\n",
      "torch.Size([2, 1])\n"
     ]
    }
   ],
   "source": [
    "print(W2)\n",
    "print(W2.shape)"
   ]
  },
  {
   "cell_type": "code",
   "execution_count": 57,
   "id": "fa2944b8",
   "metadata": {},
   "outputs": [
    {
     "name": "stdout",
     "output_type": "stream",
     "text": [
      "tensor([[0.3171]])\n"
     ]
    }
   ],
   "source": [
    "### Solution\n",
    "\n",
    "laye1_output = activation(torch.mm(features, W1) + B1)\n",
    "output = activation(torch.mm(laye1_output, W2) + B2)\n",
    "print(output)"
   ]
  },
  {
   "cell_type": "code",
   "execution_count": 54,
   "id": "117437ec",
   "metadata": {},
   "outputs": [],
   "source": []
  },
  {
   "cell_type": "code",
   "execution_count": null,
   "id": "cad85c16",
   "metadata": {},
   "outputs": [],
   "source": []
  },
  {
   "cell_type": "code",
   "execution_count": null,
   "id": "94ad737e",
   "metadata": {},
   "outputs": [],
   "source": []
  }
 ],
 "metadata": {
  "kernelspec": {
   "display_name": "Python 3 (ipykernel)",
   "language": "python",
   "name": "python3"
  },
  "language_info": {
   "codemirror_mode": {
    "name": "ipython",
    "version": 3
   },
   "file_extension": ".py",
   "mimetype": "text/x-python",
   "name": "python",
   "nbconvert_exporter": "python",
   "pygments_lexer": "ipython3",
   "version": "3.10.4"
  }
 },
 "nbformat": 4,
 "nbformat_minor": 5
}
